{
  "cells": [
    {
      "cell_type": "markdown",
      "metadata": {
        "id": "kS-5w5mb4ACc"
      },
      "source": [
        "# Model classifier pour sélection de candidats avec biais minimal\n",
        "\n",
        "This model is built for the Statup/Ekimetrcis Hackaton by team Tuxae. As we are working with complete beginners, and are beginners ourselves, an effort is made making the code clear and commenting it thouroughly.\n",
        "\n",
        "## Dataset\n",
        "\n",
        "StackOverflow's annual user-generated survey (over 70,000 responses from over 180 countries) of developers examines all aspects of the developer experience, from learning code to preferred technologies, version control and work experience.\n",
        "\n",
        "From the survey results, we have built a dataset with the following columns:\n",
        "- **Age**: age of the applicant, >35 years old or <35 years old *(categorical)*\n",
        "- **EdLevel**: education level of the applicant (Undergraduate, Master, PhD...) *(categorical)*\n",
        "- **Gender**: gender of the applicant, (Man, Woman, or NonBinary) *(categorical)*\n",
        "- **MainBranch**: whether the applicant is a profesional developer *(categorical)*\n",
        "- **YearsCode**: how long the applicant has been coding *(integer)*\n",
        "- **YearsCodePro**: how long the applicant has been coding in a professional context, *(integer)*\n",
        "- **PreviousSalary**: the applicant's previous job salary *(float)*\n",
        "- **ComputerSkills**: number of computer skills known by the applicant *(integer)*\n",
        "- **Employed**: target variable, whether the applicant has been hired *(categorical)*\n",
        "\n",
        "\n",
        "## Imports"
      ]
    },
    {
      "cell_type": "code",
      "execution_count": 1,
      "metadata": {
        "id": "J-6StItJ3W8y",
        "colab": {
          "base_uri": "https://localhost:8080/",
          "height": 263
        },
        "outputId": "774a4499-4483-4188-d4dd-1890dcf95e48"
      },
      "outputs": [
        {
          "output_type": "stream",
          "name": "stdout",
          "text": [
            "Requirement already satisfied: dalex in /usr/local/lib/python3.10/dist-packages (1.6.0)\n",
            "Requirement already satisfied: setuptools in /usr/local/lib/python3.10/dist-packages (from dalex) (67.7.2)\n",
            "Requirement already satisfied: pandas>=1.2.5 in /usr/local/lib/python3.10/dist-packages (from dalex) (1.5.3)\n",
            "Requirement already satisfied: numpy>=1.20.3 in /usr/local/lib/python3.10/dist-packages (from dalex) (1.23.5)\n",
            "Requirement already satisfied: scipy>=1.6.3 in /usr/local/lib/python3.10/dist-packages (from dalex) (1.11.3)\n",
            "Requirement already satisfied: plotly>=5.1.0 in /usr/local/lib/python3.10/dist-packages (from dalex) (5.15.0)\n",
            "Requirement already satisfied: tqdm>=4.61.2 in /usr/local/lib/python3.10/dist-packages (from dalex) (4.66.1)\n",
            "Requirement already satisfied: python-dateutil>=2.8.1 in /usr/local/lib/python3.10/dist-packages (from pandas>=1.2.5->dalex) (2.8.2)\n",
            "Requirement already satisfied: pytz>=2020.1 in /usr/local/lib/python3.10/dist-packages (from pandas>=1.2.5->dalex) (2023.3.post1)\n",
            "Requirement already satisfied: tenacity>=6.2.0 in /usr/local/lib/python3.10/dist-packages (from plotly>=5.1.0->dalex) (8.2.3)\n",
            "Requirement already satisfied: packaging in /usr/local/lib/python3.10/dist-packages (from plotly>=5.1.0->dalex) (23.2)\n",
            "Requirement already satisfied: six>=1.5 in /usr/local/lib/python3.10/dist-packages (from python-dateutil>=2.8.1->pandas>=1.2.5->dalex) (1.16.0)\n"
          ]
        },
        {
          "output_type": "execute_result",
          "data": {
            "text/plain": [
              "'1.2.2'"
            ],
            "application/vnd.google.colaboratory.intrinsic+json": {
              "type": "string"
            }
          },
          "metadata": {},
          "execution_count": 1
        }
      ],
      "source": [
        "!pip install dalex\n",
        "\n",
        "import numpy as np\n",
        "import pandas as pd\n",
        "import seaborn as sns\n",
        "import dalex as dx\n",
        "from dalex.fairness import resample, reweight\n",
        "from copy import copy\n",
        "import matplotlib.pyplot as plt\n",
        "%matplotlib inline\n",
        "\n",
        "from scipy.stats import chi2_contingency, pearsonr\n",
        "from sklearn import preprocessing\n",
        "from sklearn.ensemble import RandomForestClassifier, HistGradientBoostingClassifier\n",
        "from sklearn.tree import DecisionTreeClassifier\n",
        "from sklearn.neighbors import KNeighborsClassifier\n",
        "from sklearn.metrics import classification_report, accuracy_score\n",
        "from sklearn.model_selection import cross_val_score\n",
        "\n",
        "import sklearn\n",
        "sklearn.__version__"
      ]
    },
    {
      "cell_type": "markdown",
      "metadata": {
        "id": "9500yA516Rjo"
      },
      "source": [
        "## Exploratory data analysis"
      ]
    },
    {
      "cell_type": "code",
      "execution_count": 2,
      "metadata": {
        "colab": {
          "base_uri": "https://localhost:8080/",
          "height": 0
        },
        "id": "gfC9tQ9W6ULc",
        "outputId": "0257c91c-198b-406e-afea-abe452b36711"
      },
      "outputs": [
        {
          "output_type": "execute_result",
          "data": {
            "text/plain": [
              "   Unnamed: 0  Age Accessibility        EdLevel  Employment Gender  \\\n",
              "0           0  <35            No         Master           1    Man   \n",
              "1           1  <35            No  Undergraduate           1    Man   \n",
              "2           2  <35            No         Master           1    Man   \n",
              "3           3  <35            No  Undergraduate           1    Man   \n",
              "4           4  >35            No            PhD           0    Man   \n",
              "\n",
              "  MentalHealth MainBranch  YearsCode  YearsCodePro    Country  PreviousSalary  \\\n",
              "0           No        Dev          7             4     Sweden         51552.0   \n",
              "1           No        Dev         12             5      Spain         46482.0   \n",
              "2           No        Dev         15             6    Germany         77290.0   \n",
              "3           No        Dev          9             6     Canada         46135.0   \n",
              "4           No     NotDev         40            30  Singapore        160932.0   \n",
              "\n",
              "                                      HaveWorkedWith  ComputerSkills  Employed  \n",
              "0                          C++;Python;Git;PostgreSQL               4         0  \n",
              "1  Bash/Shell;HTML/CSS;JavaScript;Node.js;SQL;Typ...              12         1  \n",
              "2             C;C++;Java;Perl;Ruby;Git;Ruby on Rails               7         0  \n",
              "3  Bash/Shell;HTML/CSS;JavaScript;PHP;Ruby;SQL;Gi...              13         0  \n",
              "4                                         C++;Python               2         0  "
            ],
            "text/html": [
              "\n",
              "  <div id=\"df-3a1936ef-4872-4c3a-bb45-c25103a5f576\" class=\"colab-df-container\">\n",
              "    <div>\n",
              "<style scoped>\n",
              "    .dataframe tbody tr th:only-of-type {\n",
              "        vertical-align: middle;\n",
              "    }\n",
              "\n",
              "    .dataframe tbody tr th {\n",
              "        vertical-align: top;\n",
              "    }\n",
              "\n",
              "    .dataframe thead th {\n",
              "        text-align: right;\n",
              "    }\n",
              "</style>\n",
              "<table border=\"1\" class=\"dataframe\">\n",
              "  <thead>\n",
              "    <tr style=\"text-align: right;\">\n",
              "      <th></th>\n",
              "      <th>Unnamed: 0</th>\n",
              "      <th>Age</th>\n",
              "      <th>Accessibility</th>\n",
              "      <th>EdLevel</th>\n",
              "      <th>Employment</th>\n",
              "      <th>Gender</th>\n",
              "      <th>MentalHealth</th>\n",
              "      <th>MainBranch</th>\n",
              "      <th>YearsCode</th>\n",
              "      <th>YearsCodePro</th>\n",
              "      <th>Country</th>\n",
              "      <th>PreviousSalary</th>\n",
              "      <th>HaveWorkedWith</th>\n",
              "      <th>ComputerSkills</th>\n",
              "      <th>Employed</th>\n",
              "    </tr>\n",
              "  </thead>\n",
              "  <tbody>\n",
              "    <tr>\n",
              "      <th>0</th>\n",
              "      <td>0</td>\n",
              "      <td>&lt;35</td>\n",
              "      <td>No</td>\n",
              "      <td>Master</td>\n",
              "      <td>1</td>\n",
              "      <td>Man</td>\n",
              "      <td>No</td>\n",
              "      <td>Dev</td>\n",
              "      <td>7</td>\n",
              "      <td>4</td>\n",
              "      <td>Sweden</td>\n",
              "      <td>51552.0</td>\n",
              "      <td>C++;Python;Git;PostgreSQL</td>\n",
              "      <td>4</td>\n",
              "      <td>0</td>\n",
              "    </tr>\n",
              "    <tr>\n",
              "      <th>1</th>\n",
              "      <td>1</td>\n",
              "      <td>&lt;35</td>\n",
              "      <td>No</td>\n",
              "      <td>Undergraduate</td>\n",
              "      <td>1</td>\n",
              "      <td>Man</td>\n",
              "      <td>No</td>\n",
              "      <td>Dev</td>\n",
              "      <td>12</td>\n",
              "      <td>5</td>\n",
              "      <td>Spain</td>\n",
              "      <td>46482.0</td>\n",
              "      <td>Bash/Shell;HTML/CSS;JavaScript;Node.js;SQL;Typ...</td>\n",
              "      <td>12</td>\n",
              "      <td>1</td>\n",
              "    </tr>\n",
              "    <tr>\n",
              "      <th>2</th>\n",
              "      <td>2</td>\n",
              "      <td>&lt;35</td>\n",
              "      <td>No</td>\n",
              "      <td>Master</td>\n",
              "      <td>1</td>\n",
              "      <td>Man</td>\n",
              "      <td>No</td>\n",
              "      <td>Dev</td>\n",
              "      <td>15</td>\n",
              "      <td>6</td>\n",
              "      <td>Germany</td>\n",
              "      <td>77290.0</td>\n",
              "      <td>C;C++;Java;Perl;Ruby;Git;Ruby on Rails</td>\n",
              "      <td>7</td>\n",
              "      <td>0</td>\n",
              "    </tr>\n",
              "    <tr>\n",
              "      <th>3</th>\n",
              "      <td>3</td>\n",
              "      <td>&lt;35</td>\n",
              "      <td>No</td>\n",
              "      <td>Undergraduate</td>\n",
              "      <td>1</td>\n",
              "      <td>Man</td>\n",
              "      <td>No</td>\n",
              "      <td>Dev</td>\n",
              "      <td>9</td>\n",
              "      <td>6</td>\n",
              "      <td>Canada</td>\n",
              "      <td>46135.0</td>\n",
              "      <td>Bash/Shell;HTML/CSS;JavaScript;PHP;Ruby;SQL;Gi...</td>\n",
              "      <td>13</td>\n",
              "      <td>0</td>\n",
              "    </tr>\n",
              "    <tr>\n",
              "      <th>4</th>\n",
              "      <td>4</td>\n",
              "      <td>&gt;35</td>\n",
              "      <td>No</td>\n",
              "      <td>PhD</td>\n",
              "      <td>0</td>\n",
              "      <td>Man</td>\n",
              "      <td>No</td>\n",
              "      <td>NotDev</td>\n",
              "      <td>40</td>\n",
              "      <td>30</td>\n",
              "      <td>Singapore</td>\n",
              "      <td>160932.0</td>\n",
              "      <td>C++;Python</td>\n",
              "      <td>2</td>\n",
              "      <td>0</td>\n",
              "    </tr>\n",
              "  </tbody>\n",
              "</table>\n",
              "</div>\n",
              "    <div class=\"colab-df-buttons\">\n",
              "\n",
              "  <div class=\"colab-df-container\">\n",
              "    <button class=\"colab-df-convert\" onclick=\"convertToInteractive('df-3a1936ef-4872-4c3a-bb45-c25103a5f576')\"\n",
              "            title=\"Convert this dataframe to an interactive table.\"\n",
              "            style=\"display:none;\">\n",
              "\n",
              "  <svg xmlns=\"http://www.w3.org/2000/svg\" height=\"24px\" viewBox=\"0 -960 960 960\">\n",
              "    <path d=\"M120-120v-720h720v720H120Zm60-500h600v-160H180v160Zm220 220h160v-160H400v160Zm0 220h160v-160H400v160ZM180-400h160v-160H180v160Zm440 0h160v-160H620v160ZM180-180h160v-160H180v160Zm440 0h160v-160H620v160Z\"/>\n",
              "  </svg>\n",
              "    </button>\n",
              "\n",
              "  <style>\n",
              "    .colab-df-container {\n",
              "      display:flex;\n",
              "      gap: 12px;\n",
              "    }\n",
              "\n",
              "    .colab-df-convert {\n",
              "      background-color: #E8F0FE;\n",
              "      border: none;\n",
              "      border-radius: 50%;\n",
              "      cursor: pointer;\n",
              "      display: none;\n",
              "      fill: #1967D2;\n",
              "      height: 32px;\n",
              "      padding: 0 0 0 0;\n",
              "      width: 32px;\n",
              "    }\n",
              "\n",
              "    .colab-df-convert:hover {\n",
              "      background-color: #E2EBFA;\n",
              "      box-shadow: 0px 1px 2px rgba(60, 64, 67, 0.3), 0px 1px 3px 1px rgba(60, 64, 67, 0.15);\n",
              "      fill: #174EA6;\n",
              "    }\n",
              "\n",
              "    .colab-df-buttons div {\n",
              "      margin-bottom: 4px;\n",
              "    }\n",
              "\n",
              "    [theme=dark] .colab-df-convert {\n",
              "      background-color: #3B4455;\n",
              "      fill: #D2E3FC;\n",
              "    }\n",
              "\n",
              "    [theme=dark] .colab-df-convert:hover {\n",
              "      background-color: #434B5C;\n",
              "      box-shadow: 0px 1px 3px 1px rgba(0, 0, 0, 0.15);\n",
              "      filter: drop-shadow(0px 1px 2px rgba(0, 0, 0, 0.3));\n",
              "      fill: #FFFFFF;\n",
              "    }\n",
              "  </style>\n",
              "\n",
              "    <script>\n",
              "      const buttonEl =\n",
              "        document.querySelector('#df-3a1936ef-4872-4c3a-bb45-c25103a5f576 button.colab-df-convert');\n",
              "      buttonEl.style.display =\n",
              "        google.colab.kernel.accessAllowed ? 'block' : 'none';\n",
              "\n",
              "      async function convertToInteractive(key) {\n",
              "        const element = document.querySelector('#df-3a1936ef-4872-4c3a-bb45-c25103a5f576');\n",
              "        const dataTable =\n",
              "          await google.colab.kernel.invokeFunction('convertToInteractive',\n",
              "                                                    [key], {});\n",
              "        if (!dataTable) return;\n",
              "\n",
              "        const docLinkHtml = 'Like what you see? Visit the ' +\n",
              "          '<a target=\"_blank\" href=https://colab.research.google.com/notebooks/data_table.ipynb>data table notebook</a>'\n",
              "          + ' to learn more about interactive tables.';\n",
              "        element.innerHTML = '';\n",
              "        dataTable['output_type'] = 'display_data';\n",
              "        await google.colab.output.renderOutput(dataTable, element);\n",
              "        const docLink = document.createElement('div');\n",
              "        docLink.innerHTML = docLinkHtml;\n",
              "        element.appendChild(docLink);\n",
              "      }\n",
              "    </script>\n",
              "  </div>\n",
              "\n",
              "\n",
              "<div id=\"df-633d054d-f29b-4695-9daa-822b541f6919\">\n",
              "  <button class=\"colab-df-quickchart\" onclick=\"quickchart('df-633d054d-f29b-4695-9daa-822b541f6919')\"\n",
              "            title=\"Suggest charts\"\n",
              "            style=\"display:none;\">\n",
              "\n",
              "<svg xmlns=\"http://www.w3.org/2000/svg\" height=\"24px\"viewBox=\"0 0 24 24\"\n",
              "     width=\"24px\">\n",
              "    <g>\n",
              "        <path d=\"M19 3H5c-1.1 0-2 .9-2 2v14c0 1.1.9 2 2 2h14c1.1 0 2-.9 2-2V5c0-1.1-.9-2-2-2zM9 17H7v-7h2v7zm4 0h-2V7h2v10zm4 0h-2v-4h2v4z\"/>\n",
              "    </g>\n",
              "</svg>\n",
              "  </button>\n",
              "\n",
              "<style>\n",
              "  .colab-df-quickchart {\n",
              "      --bg-color: #E8F0FE;\n",
              "      --fill-color: #1967D2;\n",
              "      --hover-bg-color: #E2EBFA;\n",
              "      --hover-fill-color: #174EA6;\n",
              "      --disabled-fill-color: #AAA;\n",
              "      --disabled-bg-color: #DDD;\n",
              "  }\n",
              "\n",
              "  [theme=dark] .colab-df-quickchart {\n",
              "      --bg-color: #3B4455;\n",
              "      --fill-color: #D2E3FC;\n",
              "      --hover-bg-color: #434B5C;\n",
              "      --hover-fill-color: #FFFFFF;\n",
              "      --disabled-bg-color: #3B4455;\n",
              "      --disabled-fill-color: #666;\n",
              "  }\n",
              "\n",
              "  .colab-df-quickchart {\n",
              "    background-color: var(--bg-color);\n",
              "    border: none;\n",
              "    border-radius: 50%;\n",
              "    cursor: pointer;\n",
              "    display: none;\n",
              "    fill: var(--fill-color);\n",
              "    height: 32px;\n",
              "    padding: 0;\n",
              "    width: 32px;\n",
              "  }\n",
              "\n",
              "  .colab-df-quickchart:hover {\n",
              "    background-color: var(--hover-bg-color);\n",
              "    box-shadow: 0 1px 2px rgba(60, 64, 67, 0.3), 0 1px 3px 1px rgba(60, 64, 67, 0.15);\n",
              "    fill: var(--button-hover-fill-color);\n",
              "  }\n",
              "\n",
              "  .colab-df-quickchart-complete:disabled,\n",
              "  .colab-df-quickchart-complete:disabled:hover {\n",
              "    background-color: var(--disabled-bg-color);\n",
              "    fill: var(--disabled-fill-color);\n",
              "    box-shadow: none;\n",
              "  }\n",
              "\n",
              "  .colab-df-spinner {\n",
              "    border: 2px solid var(--fill-color);\n",
              "    border-color: transparent;\n",
              "    border-bottom-color: var(--fill-color);\n",
              "    animation:\n",
              "      spin 1s steps(1) infinite;\n",
              "  }\n",
              "\n",
              "  @keyframes spin {\n",
              "    0% {\n",
              "      border-color: transparent;\n",
              "      border-bottom-color: var(--fill-color);\n",
              "      border-left-color: var(--fill-color);\n",
              "    }\n",
              "    20% {\n",
              "      border-color: transparent;\n",
              "      border-left-color: var(--fill-color);\n",
              "      border-top-color: var(--fill-color);\n",
              "    }\n",
              "    30% {\n",
              "      border-color: transparent;\n",
              "      border-left-color: var(--fill-color);\n",
              "      border-top-color: var(--fill-color);\n",
              "      border-right-color: var(--fill-color);\n",
              "    }\n",
              "    40% {\n",
              "      border-color: transparent;\n",
              "      border-right-color: var(--fill-color);\n",
              "      border-top-color: var(--fill-color);\n",
              "    }\n",
              "    60% {\n",
              "      border-color: transparent;\n",
              "      border-right-color: var(--fill-color);\n",
              "    }\n",
              "    80% {\n",
              "      border-color: transparent;\n",
              "      border-right-color: var(--fill-color);\n",
              "      border-bottom-color: var(--fill-color);\n",
              "    }\n",
              "    90% {\n",
              "      border-color: transparent;\n",
              "      border-bottom-color: var(--fill-color);\n",
              "    }\n",
              "  }\n",
              "</style>\n",
              "\n",
              "  <script>\n",
              "    async function quickchart(key) {\n",
              "      const quickchartButtonEl =\n",
              "        document.querySelector('#' + key + ' button');\n",
              "      quickchartButtonEl.disabled = true;  // To prevent multiple clicks.\n",
              "      quickchartButtonEl.classList.add('colab-df-spinner');\n",
              "      try {\n",
              "        const charts = await google.colab.kernel.invokeFunction(\n",
              "            'suggestCharts', [key], {});\n",
              "      } catch (error) {\n",
              "        console.error('Error during call to suggestCharts:', error);\n",
              "      }\n",
              "      quickchartButtonEl.classList.remove('colab-df-spinner');\n",
              "      quickchartButtonEl.classList.add('colab-df-quickchart-complete');\n",
              "    }\n",
              "    (() => {\n",
              "      let quickchartButtonEl =\n",
              "        document.querySelector('#df-633d054d-f29b-4695-9daa-822b541f6919 button');\n",
              "      quickchartButtonEl.style.display =\n",
              "        google.colab.kernel.accessAllowed ? 'block' : 'none';\n",
              "    })();\n",
              "  </script>\n",
              "</div>\n",
              "    </div>\n",
              "  </div>\n"
            ]
          },
          "metadata": {},
          "execution_count": 2
        }
      ],
      "source": [
        "file_path = \"/content/stackoverflow_full.csv\"\n",
        "survey_data = pd.read_csv(file_path)\n",
        "\n",
        "survey_data.head()"
      ]
    },
    {
      "cell_type": "markdown",
      "metadata": {
        "id": "DLsuwXteFbCP"
      },
      "source": [
        "A variable named \"Unnamed: 0\" seems to correspond be the row index, we drop it immediately as it won't be anything but distracting."
      ]
    },
    {
      "cell_type": "code",
      "execution_count": 3,
      "metadata": {
        "id": "NWq_dC51O3z2"
      },
      "outputs": [],
      "source": [
        "survey_data = survey_data.drop(columns=[\"Unnamed: 0\"])"
      ]
    },
    {
      "cell_type": "code",
      "execution_count": 4,
      "metadata": {
        "id": "wYVibRosKYZ9"
      },
      "outputs": [],
      "source": [
        "def flatten_categories(df):\n",
        "  flattened_df = df.copy().dropna()\n",
        "  flattened_df[\"Accessibility\"].replace([\"No\", \"Yes\"], [0, 1], inplace=True)\n",
        "  flattened_df[\"MentalHealth\"].replace([\"No\", \"Yes\"], [0, 1], inplace=True)\n",
        "  flattened_df[\"Age\"].replace([\"<35\", \">35\"], [0, 1], inplace=True)\n",
        "  #flattened_df[\"Gender\"].replace([\"Man\", \"Woman\", \"NonBinary\"], [0, 1, 2], inplace=True)\n",
        "  gender_categories = flattened_df[\"Gender\"].str.get_dummies()\n",
        "  flattened_df = pd.concat([flattened_df, gender_categories], axis=\"columns\").drop(columns=[\"Gender\"])\n",
        "  return flattened_df\n",
        "\n",
        "corr_ready_data = flatten_categories(survey_data)\n",
        "# np.array([np.array(corr_ready_data[\"Employed\"]), np.array(corr_ready_data[\"Gender\"])])"
      ]
    },
    {
      "cell_type": "code",
      "execution_count": 5,
      "metadata": {
        "colab": {
          "base_uri": "https://localhost:8080/"
        },
        "id": "aCL3I_es4rwC",
        "outputId": "979a91e3-ab00-4a6b-9a0b-a884284f5e47"
      },
      "outputs": [
        {
          "output_type": "stream",
          "name": "stdout",
          "text": [
            "ratio Country                             \n",
            "Afghanistan                             0.058824\n",
            "Albania                                 0.016949\n",
            "Algeria                                      NaN\n",
            "Andorra                                      NaN\n",
            "Angola                                       NaN\n",
            "                                          ...   \n",
            "Venezuela, Bolivarian Republic of...         NaN\n",
            "Viet Nam                                0.009524\n",
            "Yemen                                        NaN\n",
            "Zambia                                       NaN\n",
            "Zimbabwe                                     NaN\n",
            "Length: 172, dtype: float64\n"
          ]
        }
      ],
      "source": [
        "df = survey_data.copy()\n",
        "\n",
        "country_total = df[[\"Country\"]].value_counts()\n",
        "\n",
        "# print(\"country_total\", country_total)\n",
        "\n",
        "df = df[df[\"Gender\"] == \"NonBinary\"]\n",
        "\n",
        "country_nonbinary = df[[\"Country\"]].value_counts()\n",
        "\n",
        "# print(\"country_nonbinary\", country_nonbinary)\n",
        "\n",
        "df = country_nonbinary / country_total\n",
        "\n",
        "print(\"ratio\", df)"
      ]
    },
    {
      "cell_type": "code",
      "execution_count": 6,
      "metadata": {
        "colab": {
          "base_uri": "https://localhost:8080/"
        },
        "id": "rnefL0YM12r7",
        "outputId": "e3aecdf9-8a51-435f-aefa-fe790e8ecffb"
      },
      "outputs": [
        {
          "output_type": "stream",
          "name": "stdout",
          "text": [
            "8.435423846742901e-30\n"
          ]
        }
      ],
      "source": [
        "df = pd.crosstab(corr_ready_data[\"ComputerSkills\"], corr_ready_data[\"Woman\"])\n",
        "\n",
        "res = chi2_contingency(df)\n",
        "print(res.pvalue)"
      ]
    },
    {
      "cell_type": "markdown",
      "metadata": {
        "id": "3tr8uZeNO6-P"
      },
      "source": [
        "Our goal is to have a quick overview of how every variable interacts. Categorical values need to be converted to numeric values for this to be computed in the correlation matrix. We especially want to compute `Accessibility`, `MentalHealth` and `Gender` categories to get a grasp of biases in the data."
      ]
    },
    {
      "cell_type": "code",
      "execution_count": 7,
      "metadata": {
        "colab": {
          "base_uri": "https://localhost:8080/",
          "height": 0
        },
        "id": "W_pBlocp8aC3",
        "outputId": "df60be2c-bad8-4bf7-9ee9-b7c8f78d0298"
      },
      "outputs": [
        {
          "output_type": "stream",
          "name": "stderr",
          "text": [
            "<ipython-input-7-fca401c733c7>:1: FutureWarning: The default value of numeric_only in DataFrame.corr is deprecated. In a future version, it will default to False. Select only valid columns or specify the value of numeric_only to silence this warning.\n",
            "  correlation_matrix = corr_ready_data.corr()\n",
            "<ipython-input-7-fca401c733c7>:7: FutureWarning: The default value of numeric_only in DataFrame.corr is deprecated. In a future version, it will default to False. Select only valid columns or specify the value of numeric_only to silence this warning.\n",
            "  pvalues = round(corr_ready_data.corr(method=lambda x, y: pearsonr(x, y)[1]), 4)\n"
          ]
        },
        {
          "output_type": "display_data",
          "data": {
            "text/plain": [
              "<Figure size 1200x800 with 2 Axes>"
            ],
            "image/png": "[encoded data removed]"
          },
          "metadata": {}
        }
      ],
      "source": [
        "correlation_matrix = corr_ready_data.corr()\n",
        "fig, ax = plt.subplots(figsize=(12, 8))\n",
        "mask = np.triu(np.ones_like(correlation_matrix, dtype=bool))\n",
        "sns.set(style=\"white\", font_scale=0.8)\n",
        "sns.heatmap(correlation_matrix, annot=True, fmt='.2f', cmap='coolwarm', cbar_kws={'shrink': 0.8},\n",
        "            ax=ax, vmin=-1, vmax=1, center=0, mask=mask)\n",
        "pvalues = round(corr_ready_data.corr(method=lambda x, y: pearsonr(x, y)[1]), 4)\n",
        "for i in range(correlation_matrix.shape[0]):\n",
        "    for j in range(correlation_matrix.shape[1]):\n",
        "        if i >= j:\n",
        "            continue\n",
        "        corr = f'{correlation_matrix.iloc[i, j]}',\n",
        "        pval = pvalues.iloc[i, j]\n",
        "        ax.text(j+0.5, i+0.5, corr, ha='center', va='center', fontsize=10, color='white')\n",
        "        ax.text(i+0.5, j+0.7, pval, ha='center', va='center', fontsize=8, color='green')\n",
        "plt.title(\"Correlation Matrix of Numerical Variables\")\n",
        "plt.show()"
      ]
    },
    {
      "cell_type": "markdown",
      "metadata": {
        "id": "K6xxBUe0O8UC"
      },
      "source": [
        "We are interested in the correlations between `Employed` (8th column) and other variables. Interestingly, the correlation matrix seems to indicate that the dataset has a bias on gender but not on accessibility needs or mental health. These biases will be further explored later on."
      ]
    },
    {
      "cell_type": "markdown",
      "metadata": {
        "id": "s6dWx5IQ4YDy"
      },
      "source": [
        "## Pre-processing"
      ]
    },
    {
      "cell_type": "code",
      "execution_count": 8,
      "metadata": {
        "id": "hEcuNuR36U10"
      },
      "outputs": [],
      "source": [
        "from sklearn.model_selection import train_test_split\n",
        "from sklearn.preprocessing import OneHotEncoder\n",
        "from sklearn.impute import SimpleImputer\n",
        "from sklearn.compose import ColumnTransformer\n",
        "from sklearn.pipeline import Pipeline\n",
        "\n",
        "X = survey_data.drop(columns=['Employed', 'Country', 'HaveWorkedWith'])\n",
        "y = survey_data['Employed']\n",
        "\n",
        "categorical_cols = X.select_dtypes(include=['object', 'category']).columns\n",
        "numerical_cols = X.select_dtypes(include=['int64', 'float64']).columns\n",
        "\n",
        "numerical_transformer = SimpleImputer(strategy='mean')\n",
        "categorical_transformer = Pipeline(steps=[\n",
        "    ('imputer', SimpleImputer(strategy='most_frequent')),\n",
        "    ('onehot', OneHotEncoder(handle_unknown='ignore'))\n",
        "])\n",
        "\n",
        "preprocessor = ColumnTransformer(\n",
        "    transformers=[\n",
        "        ('num', numerical_transformer, numerical_cols),\n",
        "        ('cat', categorical_transformer, categorical_cols)\n",
        "    ])"
      ]
    },
    {
      "cell_type": "markdown",
      "metadata": {
        "id": "-9HquNg3JgjZ"
      },
      "source": [
        "## Training\n",
        "\n"
      ]
    },
    {
      "cell_type": "code",
      "source": [
        "# Random forest\n",
        "rf = Pipeline(steps=[\n",
        "    ('preprocessor', preprocessor),\n",
        "    ('classifier', RandomForestClassifier(max_depth=3, random_state= 0))\n",
        "])\n",
        "\n",
        "# Decision tree\n",
        "dc = Pipeline(steps=[\n",
        "    ('preprocessor', preprocessor),\n",
        "    ('classifier', DecisionTreeClassifier())\n",
        "])\n",
        "\n",
        "# K-Nearest Neighbor\n",
        "kn = Pipeline(steps=[\n",
        "    ('preprocessor', preprocessor),\n",
        "    ('classifier', KNeighborsClassifier())\n",
        "])\n",
        "\n",
        "# Gradient Boosting\n",
        "gb = Pipeline(steps=[\n",
        "    ('preprocessor', preprocessor),\n",
        "    ('classifier', HistGradientBoostingClassifier())\n",
        "])"
      ],
      "metadata": {
        "id": "d_Mj_1KL7Zdt"
      },
      "execution_count": 9,
      "outputs": []
    },
    {
      "cell_type": "code",
      "execution_count": 10,
      "metadata": {
        "colab": {
          "base_uri": "https://localhost:8080/",
          "height": 223
        },
        "id": "o2T96vs6JihR",
        "outputId": "16fd86fa-99bf-4779-f5e4-31e1f02fae17"
      },
      "outputs": [
        {
          "output_type": "execute_result",
          "data": {
            "text/plain": [
              "Pipeline(steps=[('preprocessor',\n",
              "                 ColumnTransformer(transformers=[('num', SimpleImputer(),\n",
              "                                                  Index(['Employment', 'YearsCode', 'YearsCodePro', 'PreviousSalary',\n",
              "       'ComputerSkills'],\n",
              "      dtype='object')),\n",
              "                                                 ('cat',\n",
              "                                                  Pipeline(steps=[('imputer',\n",
              "                                                                   SimpleImputer(strategy='most_frequent')),\n",
              "                                                                  ('onehot',\n",
              "                                                                   OneHotEncoder(handle_unknown='ignore'))]),\n",
              "                                                  Index(['Age', 'Accessibility', 'EdLevel', 'Gender', 'MentalHealth',\n",
              "       'MainBranch'],\n",
              "      dtype='object'))])),\n",
              "                ('classifier', HistGradientBoostingClassifier())])"
            ],
            "text/html": [
              "<style>#sk-container-id-1 {color: black;background-color: white;}#sk-container-id-1 pre{padding: 0;}#sk-container-id-1 div.sk-toggleable {background-color: white;}#sk-container-id-1 label.sk-toggleable__label {cursor: pointer;display: block;width: 100%;margin-bottom: 0;padding: 0.3em;box-sizing: border-box;text-align: center;}#sk-container-id-1 label.sk-toggleable__label-arrow:before {content: \"▸\";float: left;margin-right: 0.25em;color: #696969;}#sk-container-id-1 label.sk-toggleable__label-arrow:hover:before {color: black;}#sk-container-id-1 div.sk-estimator:hover label.sk-toggleable__label-arrow:before {color: black;}#sk-container-id-1 div.sk-toggleable__content {max-height: 0;max-width: 0;overflow: hidden;text-align: left;background-color: #f0f8ff;}#sk-container-id-1 div.sk-toggleable__content pre {margin: 0.2em;color: black;border-radius: 0.25em;background-color: #f0f8ff;}#sk-container-id-1 input.sk-toggleable__control:checked~div.sk-toggleable__content {max-height: 200px;max-width: 100%;overflow: auto;}#sk-container-id-1 input.sk-toggleable__control:checked~label.sk-toggleable__label-arrow:before {content: \"▾\";}#sk-container-id-1 div.sk-estimator input.sk-toggleable__control:checked~label.sk-toggleable__label {background-color: #d4ebff;}#sk-container-id-1 div.sk-label input.sk-toggleable__control:checked~label.sk-toggleable__label {background-color: #d4ebff;}#sk-container-id-1 input.sk-hidden--visually {border: 0;clip: rect(1px 1px 1px 1px);clip: rect(1px, 1px, 1px, 1px);height: 1px;margin: -1px;overflow: hidden;padding: 0;position: absolute;width: 1px;}#sk-container-id-1 div.sk-estimator {font-family: monospace;background-color: #f0f8ff;border: 1px dotted black;border-radius: 0.25em;box-sizing: border-box;margin-bottom: 0.5em;}#sk-container-id-1 div.sk-estimator:hover {background-color: #d4ebff;}#sk-container-id-1 div.sk-parallel-item::after {content: \"\";width: 100%;border-bottom: 1px solid gray;flex-grow: 1;}#sk-container-id-1 div.sk-label:hover label.sk-toggleable__label {background-color: #d4ebff;}#sk-container-id-1 div.sk-serial::before {content: \"\";position: absolute;border-left: 1px solid gray;box-sizing: border-box;top: 0;bottom: 0;left: 50%;z-index: 0;}#sk-container-id-1 div.sk-serial {display: flex;flex-direction: column;align-items: center;background-color: white;padding-right: 0.2em;padding-left: 0.2em;position: relative;}#sk-container-id-1 div.sk-item {position: relative;z-index: 1;}#sk-container-id-1 div.sk-parallel {display: flex;align-items: stretch;justify-content: center;background-color: white;position: relative;}#sk-container-id-1 div.sk-item::before, #sk-container-id-1 div.sk-parallel-item::before {content: \"\";position: absolute;border-left: 1px solid gray;box-sizing: border-box;top: 0;bottom: 0;left: 50%;z-index: -1;}#sk-container-id-1 div.sk-parallel-item {display: flex;flex-direction: column;z-index: 1;position: relative;background-color: white;}#sk-container-id-1 div.sk-parallel-item:first-child::after {align-self: flex-end;width: 50%;}#sk-container-id-1 div.sk-parallel-item:last-child::after {align-self: flex-start;width: 50%;}#sk-container-id-1 div.sk-parallel-item:only-child::after {width: 0;}#sk-container-id-1 div.sk-dashed-wrapped {border: 1px dashed gray;margin: 0 0.4em 0.5em 0.4em;box-sizing: border-box;padding-bottom: 0.4em;background-color: white;}#sk-container-id-1 div.sk-label label {font-family: monospace;font-weight: bold;display: inline-block;line-height: 1.2em;}#sk-container-id-1 div.sk-label-container {text-align: center;}#sk-container-id-1 div.sk-container {/* jupyter's `normalize.less` sets `[hidden] { display: none; }` but bootstrap.min.css set `[hidden] { display: none !important; }` so we also need the `!important` here to be able to override the default hidden behavior on the sphinx rendered scikit-learn.org. See: https://github.com/scikit-learn/scikit-learn/issues/21755 */display: inline-block !important;position: relative;}#sk-container-id-1 div.sk-text-repr-fallback {display: none;}</style><div id=\"sk-container-id-1\" class=\"sk-top-container\"><div class=\"sk-text-repr-fallback\"><pre>Pipeline(steps=[(&#x27;preprocessor&#x27;,\n",
              "                 ColumnTransformer(transformers=[(&#x27;num&#x27;, SimpleImputer(),\n",
              "                                                  Index([&#x27;Employment&#x27;, &#x27;YearsCode&#x27;, &#x27;YearsCodePro&#x27;, &#x27;PreviousSalary&#x27;,\n",
              "       &#x27;ComputerSkills&#x27;],\n",
              "      dtype=&#x27;object&#x27;)),\n",
              "                                                 (&#x27;cat&#x27;,\n",
              "                                                  Pipeline(steps=[(&#x27;imputer&#x27;,\n",
              "                                                                   SimpleImputer(strategy=&#x27;most_frequent&#x27;)),\n",
              "                                                                  (&#x27;onehot&#x27;,\n",
              "                                                                   OneHotEncoder(handle_unknown=&#x27;ignore&#x27;))]),\n",
              "                                                  Index([&#x27;Age&#x27;, &#x27;Accessibility&#x27;, &#x27;EdLevel&#x27;, &#x27;Gender&#x27;, &#x27;MentalHealth&#x27;,\n",
              "       &#x27;MainBranch&#x27;],\n",
              "      dtype=&#x27;object&#x27;))])),\n",
              "                (&#x27;classifier&#x27;, HistGradientBoostingClassifier())])</pre><b>In a Jupyter environment, please rerun this cell to show the HTML representation or trust the notebook. <br />On GitHub, the HTML representation is unable to render, please try loading this page with nbviewer.org.</b></div><div class=\"sk-container\" hidden><div class=\"sk-item sk-dashed-wrapped\"><div class=\"sk-label-container\"><div class=\"sk-label sk-toggleable\"><input class=\"sk-toggleable__control sk-hidden--visually\" id=\"sk-estimator-id-1\" type=\"checkbox\" ><label for=\"sk-estimator-id-1\" class=\"sk-toggleable__label sk-toggleable__label-arrow\">Pipeline</label><div class=\"sk-toggleable__content\"><pre>Pipeline(steps=[(&#x27;preprocessor&#x27;,\n",
              "                 ColumnTransformer(transformers=[(&#x27;num&#x27;, SimpleImputer(),\n",
              "                                                  Index([&#x27;Employment&#x27;, &#x27;YearsCode&#x27;, &#x27;YearsCodePro&#x27;, &#x27;PreviousSalary&#x27;,\n",
              "       &#x27;ComputerSkills&#x27;],\n",
              "      dtype=&#x27;object&#x27;)),\n",
              "                                                 (&#x27;cat&#x27;,\n",
              "                                                  Pipeline(steps=[(&#x27;imputer&#x27;,\n",
              "                                                                   SimpleImputer(strategy=&#x27;most_frequent&#x27;)),\n",
              "                                                                  (&#x27;onehot&#x27;,\n",
              "                                                                   OneHotEncoder(handle_unknown=&#x27;ignore&#x27;))]),\n",
              "                                                  Index([&#x27;Age&#x27;, &#x27;Accessibility&#x27;, &#x27;EdLevel&#x27;, &#x27;Gender&#x27;, &#x27;MentalHealth&#x27;,\n",
              "       &#x27;MainBranch&#x27;],\n",
              "      dtype=&#x27;object&#x27;))])),\n",
              "                (&#x27;classifier&#x27;, HistGradientBoostingClassifier())])</pre></div></div></div><div class=\"sk-serial\"><div class=\"sk-item sk-dashed-wrapped\"><div class=\"sk-label-container\"><div class=\"sk-label sk-toggleable\"><input class=\"sk-toggleable__control sk-hidden--visually\" id=\"sk-estimator-id-2\" type=\"checkbox\" ><label for=\"sk-estimator-id-2\" class=\"sk-toggleable__label sk-toggleable__label-arrow\">preprocessor: ColumnTransformer</label><div class=\"sk-toggleable__content\"><pre>ColumnTransformer(transformers=[(&#x27;num&#x27;, SimpleImputer(),\n",
              "                                 Index([&#x27;Employment&#x27;, &#x27;YearsCode&#x27;, &#x27;YearsCodePro&#x27;, &#x27;PreviousSalary&#x27;,\n",
              "       &#x27;ComputerSkills&#x27;],\n",
              "      dtype=&#x27;object&#x27;)),\n",
              "                                (&#x27;cat&#x27;,\n",
              "                                 Pipeline(steps=[(&#x27;imputer&#x27;,\n",
              "                                                  SimpleImputer(strategy=&#x27;most_frequent&#x27;)),\n",
              "                                                 (&#x27;onehot&#x27;,\n",
              "                                                  OneHotEncoder(handle_unknown=&#x27;ignore&#x27;))]),\n",
              "                                 Index([&#x27;Age&#x27;, &#x27;Accessibility&#x27;, &#x27;EdLevel&#x27;, &#x27;Gender&#x27;, &#x27;MentalHealth&#x27;,\n",
              "       &#x27;MainBranch&#x27;],\n",
              "      dtype=&#x27;object&#x27;))])</pre></div></div></div><div class=\"sk-parallel\"><div class=\"sk-parallel-item\"><div class=\"sk-item\"><div class=\"sk-label-container\"><div class=\"sk-label sk-toggleable\"><input class=\"sk-toggleable__control sk-hidden--visually\" id=\"sk-estimator-id-3\" type=\"checkbox\" ><label for=\"sk-estimator-id-3\" class=\"sk-toggleable__label sk-toggleable__label-arrow\">num</label><div class=\"sk-toggleable__content\"><pre>Index([&#x27;Employment&#x27;, &#x27;YearsCode&#x27;, &#x27;YearsCodePro&#x27;, &#x27;PreviousSalary&#x27;,\n",
              "       &#x27;ComputerSkills&#x27;],\n",
              "      dtype=&#x27;object&#x27;)</pre></div></div></div><div class=\"sk-serial\"><div class=\"sk-item\"><div class=\"sk-estimator sk-toggleable\"><input class=\"sk-toggleable__control sk-hidden--visually\" id=\"sk-estimator-id-4\" type=\"checkbox\" ><label for=\"sk-estimator-id-4\" class=\"sk-toggleable__label sk-toggleable__label-arrow\">SimpleImputer</label><div class=\"sk-toggleable__content\"><pre>SimpleImputer()</pre></div></div></div></div></div></div><div class=\"sk-parallel-item\"><div class=\"sk-item\"><div class=\"sk-label-container\"><div class=\"sk-label sk-toggleable\"><input class=\"sk-toggleable__control sk-hidden--visually\" id=\"sk-estimator-id-5\" type=\"checkbox\" ><label for=\"sk-estimator-id-5\" class=\"sk-toggleable__label sk-toggleable__label-arrow\">cat</label><div class=\"sk-toggleable__content\"><pre>Index([&#x27;Age&#x27;, &#x27;Accessibility&#x27;, &#x27;EdLevel&#x27;, &#x27;Gender&#x27;, &#x27;MentalHealth&#x27;,\n",
              "       &#x27;MainBranch&#x27;],\n",
              "      dtype=&#x27;object&#x27;)</pre></div></div></div><div class=\"sk-serial\"><div class=\"sk-item\"><div class=\"sk-serial\"><div class=\"sk-item\"><div class=\"sk-estimator sk-toggleable\"><input class=\"sk-toggleable__control sk-hidden--visually\" id=\"sk-estimator-id-6\" type=\"checkbox\" ><label for=\"sk-estimator-id-6\" class=\"sk-toggleable__label sk-toggleable__label-arrow\">SimpleImputer</label><div class=\"sk-toggleable__content\"><pre>SimpleImputer(strategy=&#x27;most_frequent&#x27;)</pre></div></div></div><div class=\"sk-item\"><div class=\"sk-estimator sk-toggleable\"><input class=\"sk-toggleable__control sk-hidden--visually\" id=\"sk-estimator-id-7\" type=\"checkbox\" ><label for=\"sk-estimator-id-7\" class=\"sk-toggleable__label sk-toggleable__label-arrow\">OneHotEncoder</label><div class=\"sk-toggleable__content\"><pre>OneHotEncoder(handle_unknown=&#x27;ignore&#x27;)</pre></div></div></div></div></div></div></div></div></div></div><div class=\"sk-item\"><div class=\"sk-estimator sk-toggleable\"><input class=\"sk-toggleable__control sk-hidden--visually\" id=\"sk-estimator-id-8\" type=\"checkbox\" ><label for=\"sk-estimator-id-8\" class=\"sk-toggleable__label sk-toggleable__label-arrow\">HistGradientBoostingClassifier</label><div class=\"sk-toggleable__content\"><pre>HistGradientBoostingClassifier()</pre></div></div></div></div></div></div></div>"
            ]
          },
          "metadata": {},
          "execution_count": 10
        }
      ],
      "source": [
        "rf.fit(X, y)\n",
        "dc.fit(X, y)\n",
        "kn.fit(X, y)\n",
        "gb.fit(X, y)"
      ]
    },
    {
      "cell_type": "code",
      "execution_count": 11,
      "metadata": {
        "colab": {
          "base_uri": "https://localhost:8080/"
        },
        "id": "hnyzLxEnK6Gu",
        "outputId": "3482269d-2308-4bf4-e9a1-8d24d9b10618"
      },
      "outputs": [
        {
          "output_type": "execute_result",
          "data": {
            "text/plain": [
              "(0.7843104054932136,\n",
              " 0.7050721955438682,\n",
              " 0.6752471636157902,\n",
              " 0.7843104054932136)"
            ]
          },
          "metadata": {},
          "execution_count": 11
        }
      ],
      "source": [
        "rf_cv_score = cross_val_score(rf, X, y, cv=5, scoring='accuracy').mean()\n",
        "dc_cv_score = cross_val_score(dc, X, y, cv=5, scoring='accuracy').mean()\n",
        "kn_cv_score = cross_val_score(kn, X, y, cv=5, scoring='accuracy').mean()\n",
        "gb_cv_score = cross_val_score(rf, X, y, cv=5, scoring='accuracy').mean()\n",
        "\n",
        "rf_cv_score, dc_cv_score, kn_cv_score, gb_cv_score"
      ]
    },
    {
      "cell_type": "markdown",
      "source": [
        "## Bias Mitigation"
      ],
      "metadata": {
        "id": "NshZiSs77t3E"
      }
    },
    {
      "cell_type": "code",
      "source": [
        "epsilon = 0.8\n",
        "protected = X[\"Gender\"]\n",
        "privileged = \"Man\""
      ],
      "metadata": {
        "id": "pAWU90DP-jK_"
      },
      "execution_count": 12,
      "outputs": []
    },
    {
      "cell_type": "code",
      "source": [
        "rf_exp = dx.Explainer(rf, X, y, verbose= False)\n",
        "dc_exp = dx.Explainer(dc, X, y, verbose= False)\n",
        "kn_exp = dx.Explainer(kn, X, y, verbose= False)\n",
        "gb_exp = dx.Explainer(gb, X, y, verbose= False)"
      ],
      "metadata": {
        "id": "mc5bYRPYfTtt"
      },
      "execution_count": 13,
      "outputs": []
    },
    {
      "cell_type": "markdown",
      "source": [
        "### Resampling"
      ],
      "metadata": {
        "id": "GSmeTBzA8J0X"
      }
    },
    {
      "cell_type": "code",
      "source": [
        "rf_u = copy(rf)\n",
        "rf_p = copy(rf)\n",
        "dc_u = copy(dc)\n",
        "dc_p = copy(dc)\n",
        "kn_u = copy(kn)\n",
        "kn_p = copy(kn)\n",
        "gb_u = copy(gb)\n",
        "gb_p = copy(gb)"
      ],
      "metadata": {
        "id": "A_qE4dhZ8zV_"
      },
      "execution_count": 14,
      "outputs": []
    },
    {
      "cell_type": "code",
      "source": [
        "indices_uniform = resample(protected, y, verbose = False)\n",
        "\n",
        "rf_indices_preferential = resample(protected, y, type = 'preferential', probs = rf_exp.y_hat, verbose = False)\n",
        "dc_indices_preferential = resample(protected, y, type = 'preferential', probs = dc_exp.y_hat, verbose = False)\n",
        "kn_indices_preferential = resample(protected, y, type = 'preferential', probs = kn_exp.y_hat, verbose = False)\n",
        "gb_indices_preferential = resample(protected, y, type = 'preferential', probs = gb_exp.y_hat, verbose = False)\n",
        "\n",
        "rf_u.fit(X.iloc[indices_uniform, :], y[indices_uniform])\n",
        "rf_p.fit(X.iloc[rf_indices_preferential, :], y[rf_indices_preferential])\n",
        "dc_u.fit(X.iloc[indices_uniform, :], y[indices_uniform])\n",
        "dc_p.fit(X.iloc[dc_indices_preferential, :], y[dc_indices_preferential])\n",
        "kn_u.fit(X.iloc[indices_uniform, :], y[indices_uniform])\n",
        "kn_p.fit(X.iloc[kn_indices_preferential, :], y[kn_indices_preferential])\n",
        "gb_u.fit(X.iloc[indices_uniform, :], y[indices_uniform])\n",
        "gb_p.fit(X.iloc[gb_indices_preferential, :], y[gb_indices_preferential])"
      ],
      "metadata": {
        "colab": {
          "base_uri": "https://localhost:8080/",
          "height": 223
        },
        "id": "xNTrUt9c8JFh",
        "outputId": "d2b494e9-0d21-41f6-f151-bdddaf254a46"
      },
      "execution_count": 15,
      "outputs": [
        {
          "output_type": "execute_result",
          "data": {
            "text/plain": [
              "Pipeline(steps=[('preprocessor',\n",
              "                 ColumnTransformer(transformers=[('num', SimpleImputer(),\n",
              "                                                  Index(['Employment', 'YearsCode', 'YearsCodePro', 'PreviousSalary',\n",
              "       'ComputerSkills'],\n",
              "      dtype='object')),\n",
              "                                                 ('cat',\n",
              "                                                  Pipeline(steps=[('imputer',\n",
              "                                                                   SimpleImputer(strategy='most_frequent')),\n",
              "                                                                  ('onehot',\n",
              "                                                                   OneHotEncoder(handle_unknown='ignore'))]),\n",
              "                                                  Index(['Age', 'Accessibility', 'EdLevel', 'Gender', 'MentalHealth',\n",
              "       'MainBranch'],\n",
              "      dtype='object'))])),\n",
              "                ('classifier', HistGradientBoostingClassifier())])"
            ],
            "text/html": [
              "<style>#sk-container-id-2 {color: black;background-color: white;}#sk-container-id-2 pre{padding: 0;}#sk-container-id-2 div.sk-toggleable {background-color: white;}#sk-container-id-2 label.sk-toggleable__label {cursor: pointer;display: block;width: 100%;margin-bottom: 0;padding: 0.3em;box-sizing: border-box;text-align: center;}#sk-container-id-2 label.sk-toggleable__label-arrow:before {content: \"▸\";float: left;margin-right: 0.25em;color: #696969;}#sk-container-id-2 label.sk-toggleable__label-arrow:hover:before {color: black;}#sk-container-id-2 div.sk-estimator:hover label.sk-toggleable__label-arrow:before {color: black;}#sk-container-id-2 div.sk-toggleable__content {max-height: 0;max-width: 0;overflow: hidden;text-align: left;background-color: #f0f8ff;}#sk-container-id-2 div.sk-toggleable__content pre {margin: 0.2em;color: black;border-radius: 0.25em;background-color: #f0f8ff;}#sk-container-id-2 input.sk-toggleable__control:checked~div.sk-toggleable__content {max-height: 200px;max-width: 100%;overflow: auto;}#sk-container-id-2 input.sk-toggleable__control:checked~label.sk-toggleable__label-arrow:before {content: \"▾\";}#sk-container-id-2 div.sk-estimator input.sk-toggleable__control:checked~label.sk-toggleable__label {background-color: #d4ebff;}#sk-container-id-2 div.sk-label input.sk-toggleable__control:checked~label.sk-toggleable__label {background-color: #d4ebff;}#sk-container-id-2 input.sk-hidden--visually {border: 0;clip: rect(1px 1px 1px 1px);clip: rect(1px, 1px, 1px, 1px);height: 1px;margin: -1px;overflow: hidden;padding: 0;position: absolute;width: 1px;}#sk-container-id-2 div.sk-estimator {font-family: monospace;background-color: #f0f8ff;border: 1px dotted black;border-radius: 0.25em;box-sizing: border-box;margin-bottom: 0.5em;}#sk-container-id-2 div.sk-estimator:hover {background-color: #d4ebff;}#sk-container-id-2 div.sk-parallel-item::after {content: \"\";width: 100%;border-bottom: 1px solid gray;flex-grow: 1;}#sk-container-id-2 div.sk-label:hover label.sk-toggleable__label {background-color: #d4ebff;}#sk-container-id-2 div.sk-serial::before {content: \"\";position: absolute;border-left: 1px solid gray;box-sizing: border-box;top: 0;bottom: 0;left: 50%;z-index: 0;}#sk-container-id-2 div.sk-serial {display: flex;flex-direction: column;align-items: center;background-color: white;padding-right: 0.2em;padding-left: 0.2em;position: relative;}#sk-container-id-2 div.sk-item {position: relative;z-index: 1;}#sk-container-id-2 div.sk-parallel {display: flex;align-items: stretch;justify-content: center;background-color: white;position: relative;}#sk-container-id-2 div.sk-item::before, #sk-container-id-2 div.sk-parallel-item::before {content: \"\";position: absolute;border-left: 1px solid gray;box-sizing: border-box;top: 0;bottom: 0;left: 50%;z-index: -1;}#sk-container-id-2 div.sk-parallel-item {display: flex;flex-direction: column;z-index: 1;position: relative;background-color: white;}#sk-container-id-2 div.sk-parallel-item:first-child::after {align-self: flex-end;width: 50%;}#sk-container-id-2 div.sk-parallel-item:last-child::after {align-self: flex-start;width: 50%;}#sk-container-id-2 div.sk-parallel-item:only-child::after {width: 0;}#sk-container-id-2 div.sk-dashed-wrapped {border: 1px dashed gray;margin: 0 0.4em 0.5em 0.4em;box-sizing: border-box;padding-bottom: 0.4em;background-color: white;}#sk-container-id-2 div.sk-label label {font-family: monospace;font-weight: bold;display: inline-block;line-height: 1.2em;}#sk-container-id-2 div.sk-label-container {text-align: center;}#sk-container-id-2 div.sk-container {/* jupyter's `normalize.less` sets `[hidden] { display: none; }` but bootstrap.min.css set `[hidden] { display: none !important; }` so we also need the `!important` here to be able to override the default hidden behavior on the sphinx rendered scikit-learn.org. See: https://github.com/scikit-learn/scikit-learn/issues/21755 */display: inline-block !important;position: relative;}#sk-container-id-2 div.sk-text-repr-fallback {display: none;}</style><div id=\"sk-container-id-2\" class=\"sk-top-container\"><div class=\"sk-text-repr-fallback\"><pre>Pipeline(steps=[(&#x27;preprocessor&#x27;,\n",
              "                 ColumnTransformer(transformers=[(&#x27;num&#x27;, SimpleImputer(),\n",
              "                                                  Index([&#x27;Employment&#x27;, &#x27;YearsCode&#x27;, &#x27;YearsCodePro&#x27;, &#x27;PreviousSalary&#x27;,\n",
              "       &#x27;ComputerSkills&#x27;],\n",
              "      dtype=&#x27;object&#x27;)),\n",
              "                                                 (&#x27;cat&#x27;,\n",
              "                                                  Pipeline(steps=[(&#x27;imputer&#x27;,\n",
              "                                                                   SimpleImputer(strategy=&#x27;most_frequent&#x27;)),\n",
              "                                                                  (&#x27;onehot&#x27;,\n",
              "                                                                   OneHotEncoder(handle_unknown=&#x27;ignore&#x27;))]),\n",
              "                                                  Index([&#x27;Age&#x27;, &#x27;Accessibility&#x27;, &#x27;EdLevel&#x27;, &#x27;Gender&#x27;, &#x27;MentalHealth&#x27;,\n",
              "       &#x27;MainBranch&#x27;],\n",
              "      dtype=&#x27;object&#x27;))])),\n",
              "                (&#x27;classifier&#x27;, HistGradientBoostingClassifier())])</pre><b>In a Jupyter environment, please rerun this cell to show the HTML representation or trust the notebook. <br />On GitHub, the HTML representation is unable to render, please try loading this page with nbviewer.org.</b></div><div class=\"sk-container\" hidden><div class=\"sk-item sk-dashed-wrapped\"><div class=\"sk-label-container\"><div class=\"sk-label sk-toggleable\"><input class=\"sk-toggleable__control sk-hidden--visually\" id=\"sk-estimator-id-9\" type=\"checkbox\" ><label for=\"sk-estimator-id-9\" class=\"sk-toggleable__label sk-toggleable__label-arrow\">Pipeline</label><div class=\"sk-toggleable__content\"><pre>Pipeline(steps=[(&#x27;preprocessor&#x27;,\n",
              "                 ColumnTransformer(transformers=[(&#x27;num&#x27;, SimpleImputer(),\n",
              "                                                  Index([&#x27;Employment&#x27;, &#x27;YearsCode&#x27;, &#x27;YearsCodePro&#x27;, &#x27;PreviousSalary&#x27;,\n",
              "       &#x27;ComputerSkills&#x27;],\n",
              "      dtype=&#x27;object&#x27;)),\n",
              "                                                 (&#x27;cat&#x27;,\n",
              "                                                  Pipeline(steps=[(&#x27;imputer&#x27;,\n",
              "                                                                   SimpleImputer(strategy=&#x27;most_frequent&#x27;)),\n",
              "                                                                  (&#x27;onehot&#x27;,\n",
              "                                                                   OneHotEncoder(handle_unknown=&#x27;ignore&#x27;))]),\n",
              "                                                  Index([&#x27;Age&#x27;, &#x27;Accessibility&#x27;, &#x27;EdLevel&#x27;, &#x27;Gender&#x27;, &#x27;MentalHealth&#x27;,\n",
              "       &#x27;MainBranch&#x27;],\n",
              "      dtype=&#x27;object&#x27;))])),\n",
              "                (&#x27;classifier&#x27;, HistGradientBoostingClassifier())])</pre></div></div></div><div class=\"sk-serial\"><div class=\"sk-item sk-dashed-wrapped\"><div class=\"sk-label-container\"><div class=\"sk-label sk-toggleable\"><input class=\"sk-toggleable__control sk-hidden--visually\" id=\"sk-estimator-id-10\" type=\"checkbox\" ><label for=\"sk-estimator-id-10\" class=\"sk-toggleable__label sk-toggleable__label-arrow\">preprocessor: ColumnTransformer</label><div class=\"sk-toggleable__content\"><pre>ColumnTransformer(transformers=[(&#x27;num&#x27;, SimpleImputer(),\n",
              "                                 Index([&#x27;Employment&#x27;, &#x27;YearsCode&#x27;, &#x27;YearsCodePro&#x27;, &#x27;PreviousSalary&#x27;,\n",
              "       &#x27;ComputerSkills&#x27;],\n",
              "      dtype=&#x27;object&#x27;)),\n",
              "                                (&#x27;cat&#x27;,\n",
              "                                 Pipeline(steps=[(&#x27;imputer&#x27;,\n",
              "                                                  SimpleImputer(strategy=&#x27;most_frequent&#x27;)),\n",
              "                                                 (&#x27;onehot&#x27;,\n",
              "                                                  OneHotEncoder(handle_unknown=&#x27;ignore&#x27;))]),\n",
              "                                 Index([&#x27;Age&#x27;, &#x27;Accessibility&#x27;, &#x27;EdLevel&#x27;, &#x27;Gender&#x27;, &#x27;MentalHealth&#x27;,\n",
              "       &#x27;MainBranch&#x27;],\n",
              "      dtype=&#x27;object&#x27;))])</pre></div></div></div><div class=\"sk-parallel\"><div class=\"sk-parallel-item\"><div class=\"sk-item\"><div class=\"sk-label-container\"><div class=\"sk-label sk-toggleable\"><input class=\"sk-toggleable__control sk-hidden--visually\" id=\"sk-estimator-id-11\" type=\"checkbox\" ><label for=\"sk-estimator-id-11\" class=\"sk-toggleable__label sk-toggleable__label-arrow\">num</label><div class=\"sk-toggleable__content\"><pre>Index([&#x27;Employment&#x27;, &#x27;YearsCode&#x27;, &#x27;YearsCodePro&#x27;, &#x27;PreviousSalary&#x27;,\n",
              "       &#x27;ComputerSkills&#x27;],\n",
              "      dtype=&#x27;object&#x27;)</pre></div></div></div><div class=\"sk-serial\"><div class=\"sk-item\"><div class=\"sk-estimator sk-toggleable\"><input class=\"sk-toggleable__control sk-hidden--visually\" id=\"sk-estimator-id-12\" type=\"checkbox\" ><label for=\"sk-estimator-id-12\" class=\"sk-toggleable__label sk-toggleable__label-arrow\">SimpleImputer</label><div class=\"sk-toggleable__content\"><pre>SimpleImputer()</pre></div></div></div></div></div></div><div class=\"sk-parallel-item\"><div class=\"sk-item\"><div class=\"sk-label-container\"><div class=\"sk-label sk-toggleable\"><input class=\"sk-toggleable__control sk-hidden--visually\" id=\"sk-estimator-id-13\" type=\"checkbox\" ><label for=\"sk-estimator-id-13\" class=\"sk-toggleable__label sk-toggleable__label-arrow\">cat</label><div class=\"sk-toggleable__content\"><pre>Index([&#x27;Age&#x27;, &#x27;Accessibility&#x27;, &#x27;EdLevel&#x27;, &#x27;Gender&#x27;, &#x27;MentalHealth&#x27;,\n",
              "       &#x27;MainBranch&#x27;],\n",
              "      dtype=&#x27;object&#x27;)</pre></div></div></div><div class=\"sk-serial\"><div class=\"sk-item\"><div class=\"sk-serial\"><div class=\"sk-item\"><div class=\"sk-estimator sk-toggleable\"><input class=\"sk-toggleable__control sk-hidden--visually\" id=\"sk-estimator-id-14\" type=\"checkbox\" ><label for=\"sk-estimator-id-14\" class=\"sk-toggleable__label sk-toggleable__label-arrow\">SimpleImputer</label><div class=\"sk-toggleable__content\"><pre>SimpleImputer(strategy=&#x27;most_frequent&#x27;)</pre></div></div></div><div class=\"sk-item\"><div class=\"sk-estimator sk-toggleable\"><input class=\"sk-toggleable__control sk-hidden--visually\" id=\"sk-estimator-id-15\" type=\"checkbox\" ><label for=\"sk-estimator-id-15\" class=\"sk-toggleable__label sk-toggleable__label-arrow\">OneHotEncoder</label><div class=\"sk-toggleable__content\"><pre>OneHotEncoder(handle_unknown=&#x27;ignore&#x27;)</pre></div></div></div></div></div></div></div></div></div></div><div class=\"sk-item\"><div class=\"sk-estimator sk-toggleable\"><input class=\"sk-toggleable__control sk-hidden--visually\" id=\"sk-estimator-id-16\" type=\"checkbox\" ><label for=\"sk-estimator-id-16\" class=\"sk-toggleable__label sk-toggleable__label-arrow\">HistGradientBoostingClassifier</label><div class=\"sk-toggleable__content\"><pre>HistGradientBoostingClassifier()</pre></div></div></div></div></div></div></div>"
            ]
          },
          "metadata": {},
          "execution_count": 15
        }
      ]
    },
    {
      "cell_type": "markdown",
      "source": [
        "### Reweighting"
      ],
      "metadata": {
        "id": "lae9tyWVHAtt"
      }
    },
    {
      "cell_type": "markdown",
      "source": [
        "Reweighting is unsupported with K-Nearest Neighbors."
      ],
      "metadata": {
        "id": "SOqoZw5r9PxY"
      }
    },
    {
      "cell_type": "code",
      "source": [
        "weights = reweight(protected, y, verbose = False)\n",
        "\n",
        "rf_weighted = copy(rf)\n",
        "dc_weighted = copy(dc)\n",
        "gb_weighted = copy(gb)\n",
        "\n",
        "rf_kwargs = {rf_weighted.steps[-1][0] + '__sample_weight': weights}\n",
        "dc_kwargs = {dc_weighted.steps[-1][0] + '__sample_weight': weights}\n",
        "gb_kwargs = {gb_weighted.steps[-1][0] + '__sample_weight': weights}\n",
        "\n",
        "rf_weighted.fit(X,y, **rf_kwargs)\n",
        "dc_weighted.fit(X,y, **dc_kwargs)\n",
        "gb_weighted.fit(X,y, **gb_kwargs)"
      ],
      "metadata": {
        "colab": {
          "base_uri": "https://localhost:8080/",
          "height": 223
        },
        "id": "oRhqxwGWG_Un",
        "outputId": "2d5bf1ed-1717-406d-d0a1-beec3a76aeb4"
      },
      "execution_count": 16,
      "outputs": [
        {
          "output_type": "execute_result",
          "data": {
            "text/plain": [
              "Pipeline(steps=[('preprocessor',\n",
              "                 ColumnTransformer(transformers=[('num', SimpleImputer(),\n",
              "                                                  Index(['Employment', 'YearsCode', 'YearsCodePro', 'PreviousSalary',\n",
              "       'ComputerSkills'],\n",
              "      dtype='object')),\n",
              "                                                 ('cat',\n",
              "                                                  Pipeline(steps=[('imputer',\n",
              "                                                                   SimpleImputer(strategy='most_frequent')),\n",
              "                                                                  ('onehot',\n",
              "                                                                   OneHotEncoder(handle_unknown='ignore'))]),\n",
              "                                                  Index(['Age', 'Accessibility', 'EdLevel', 'Gender', 'MentalHealth',\n",
              "       'MainBranch'],\n",
              "      dtype='object'))])),\n",
              "                ('classifier', HistGradientBoostingClassifier())])"
            ],
            "text/html": [
              "<style>#sk-container-id-3 {color: black;background-color: white;}#sk-container-id-3 pre{padding: 0;}#sk-container-id-3 div.sk-toggleable {background-color: white;}#sk-container-id-3 label.sk-toggleable__label {cursor: pointer;display: block;width: 100%;margin-bottom: 0;padding: 0.3em;box-sizing: border-box;text-align: center;}#sk-container-id-3 label.sk-toggleable__label-arrow:before {content: \"▸\";float: left;margin-right: 0.25em;color: #696969;}#sk-container-id-3 label.sk-toggleable__label-arrow:hover:before {color: black;}#sk-container-id-3 div.sk-estimator:hover label.sk-toggleable__label-arrow:before {color: black;}#sk-container-id-3 div.sk-toggleable__content {max-height: 0;max-width: 0;overflow: hidden;text-align: left;background-color: #f0f8ff;}#sk-container-id-3 div.sk-toggleable__content pre {margin: 0.2em;color: black;border-radius: 0.25em;background-color: #f0f8ff;}#sk-container-id-3 input.sk-toggleable__control:checked~div.sk-toggleable__content {max-height: 200px;max-width: 100%;overflow: auto;}#sk-container-id-3 input.sk-toggleable__control:checked~label.sk-toggleable__label-arrow:before {content: \"▾\";}#sk-container-id-3 div.sk-estimator input.sk-toggleable__control:checked~label.sk-toggleable__label {background-color: #d4ebff;}#sk-container-id-3 div.sk-label input.sk-toggleable__control:checked~label.sk-toggleable__label {background-color: #d4ebff;}#sk-container-id-3 input.sk-hidden--visually {border: 0;clip: rect(1px 1px 1px 1px);clip: rect(1px, 1px, 1px, 1px);height: 1px;margin: -1px;overflow: hidden;padding: 0;position: absolute;width: 1px;}#sk-container-id-3 div.sk-estimator {font-family: monospace;background-color: #f0f8ff;border: 1px dotted black;border-radius: 0.25em;box-sizing: border-box;margin-bottom: 0.5em;}#sk-container-id-3 div.sk-estimator:hover {background-color: #d4ebff;}#sk-container-id-3 div.sk-parallel-item::after {content: \"\";width: 100%;border-bottom: 1px solid gray;flex-grow: 1;}#sk-container-id-3 div.sk-label:hover label.sk-toggleable__label {background-color: #d4ebff;}#sk-container-id-3 div.sk-serial::before {content: \"\";position: absolute;border-left: 1px solid gray;box-sizing: border-box;top: 0;bottom: 0;left: 50%;z-index: 0;}#sk-container-id-3 div.sk-serial {display: flex;flex-direction: column;align-items: center;background-color: white;padding-right: 0.2em;padding-left: 0.2em;position: relative;}#sk-container-id-3 div.sk-item {position: relative;z-index: 1;}#sk-container-id-3 div.sk-parallel {display: flex;align-items: stretch;justify-content: center;background-color: white;position: relative;}#sk-container-id-3 div.sk-item::before, #sk-container-id-3 div.sk-parallel-item::before {content: \"\";position: absolute;border-left: 1px solid gray;box-sizing: border-box;top: 0;bottom: 0;left: 50%;z-index: -1;}#sk-container-id-3 div.sk-parallel-item {display: flex;flex-direction: column;z-index: 1;position: relative;background-color: white;}#sk-container-id-3 div.sk-parallel-item:first-child::after {align-self: flex-end;width: 50%;}#sk-container-id-3 div.sk-parallel-item:last-child::after {align-self: flex-start;width: 50%;}#sk-container-id-3 div.sk-parallel-item:only-child::after {width: 0;}#sk-container-id-3 div.sk-dashed-wrapped {border: 1px dashed gray;margin: 0 0.4em 0.5em 0.4em;box-sizing: border-box;padding-bottom: 0.4em;background-color: white;}#sk-container-id-3 div.sk-label label {font-family: monospace;font-weight: bold;display: inline-block;line-height: 1.2em;}#sk-container-id-3 div.sk-label-container {text-align: center;}#sk-container-id-3 div.sk-container {/* jupyter's `normalize.less` sets `[hidden] { display: none; }` but bootstrap.min.css set `[hidden] { display: none !important; }` so we also need the `!important` here to be able to override the default hidden behavior on the sphinx rendered scikit-learn.org. See: https://github.com/scikit-learn/scikit-learn/issues/21755 */display: inline-block !important;position: relative;}#sk-container-id-3 div.sk-text-repr-fallback {display: none;}</style><div id=\"sk-container-id-3\" class=\"sk-top-container\"><div class=\"sk-text-repr-fallback\"><pre>Pipeline(steps=[(&#x27;preprocessor&#x27;,\n",
              "                 ColumnTransformer(transformers=[(&#x27;num&#x27;, SimpleImputer(),\n",
              "                                                  Index([&#x27;Employment&#x27;, &#x27;YearsCode&#x27;, &#x27;YearsCodePro&#x27;, &#x27;PreviousSalary&#x27;,\n",
              "       &#x27;ComputerSkills&#x27;],\n",
              "      dtype=&#x27;object&#x27;)),\n",
              "                                                 (&#x27;cat&#x27;,\n",
              "                                                  Pipeline(steps=[(&#x27;imputer&#x27;,\n",
              "                                                                   SimpleImputer(strategy=&#x27;most_frequent&#x27;)),\n",
              "                                                                  (&#x27;onehot&#x27;,\n",
              "                                                                   OneHotEncoder(handle_unknown=&#x27;ignore&#x27;))]),\n",
              "                                                  Index([&#x27;Age&#x27;, &#x27;Accessibility&#x27;, &#x27;EdLevel&#x27;, &#x27;Gender&#x27;, &#x27;MentalHealth&#x27;,\n",
              "       &#x27;MainBranch&#x27;],\n",
              "      dtype=&#x27;object&#x27;))])),\n",
              "                (&#x27;classifier&#x27;, HistGradientBoostingClassifier())])</pre><b>In a Jupyter environment, please rerun this cell to show the HTML representation or trust the notebook. <br />On GitHub, the HTML representation is unable to render, please try loading this page with nbviewer.org.</b></div><div class=\"sk-container\" hidden><div class=\"sk-item sk-dashed-wrapped\"><div class=\"sk-label-container\"><div class=\"sk-label sk-toggleable\"><input class=\"sk-toggleable__control sk-hidden--visually\" id=\"sk-estimator-id-17\" type=\"checkbox\" ><label for=\"sk-estimator-id-17\" class=\"sk-toggleable__label sk-toggleable__label-arrow\">Pipeline</label><div class=\"sk-toggleable__content\"><pre>Pipeline(steps=[(&#x27;preprocessor&#x27;,\n",
              "                 ColumnTransformer(transformers=[(&#x27;num&#x27;, SimpleImputer(),\n",
              "                                                  Index([&#x27;Employment&#x27;, &#x27;YearsCode&#x27;, &#x27;YearsCodePro&#x27;, &#x27;PreviousSalary&#x27;,\n",
              "       &#x27;ComputerSkills&#x27;],\n",
              "      dtype=&#x27;object&#x27;)),\n",
              "                                                 (&#x27;cat&#x27;,\n",
              "                                                  Pipeline(steps=[(&#x27;imputer&#x27;,\n",
              "                                                                   SimpleImputer(strategy=&#x27;most_frequent&#x27;)),\n",
              "                                                                  (&#x27;onehot&#x27;,\n",
              "                                                                   OneHotEncoder(handle_unknown=&#x27;ignore&#x27;))]),\n",
              "                                                  Index([&#x27;Age&#x27;, &#x27;Accessibility&#x27;, &#x27;EdLevel&#x27;, &#x27;Gender&#x27;, &#x27;MentalHealth&#x27;,\n",
              "       &#x27;MainBranch&#x27;],\n",
              "      dtype=&#x27;object&#x27;))])),\n",
              "                (&#x27;classifier&#x27;, HistGradientBoostingClassifier())])</pre></div></div></div><div class=\"sk-serial\"><div class=\"sk-item sk-dashed-wrapped\"><div class=\"sk-label-container\"><div class=\"sk-label sk-toggleable\"><input class=\"sk-toggleable__control sk-hidden--visually\" id=\"sk-estimator-id-18\" type=\"checkbox\" ><label for=\"sk-estimator-id-18\" class=\"sk-toggleable__label sk-toggleable__label-arrow\">preprocessor: ColumnTransformer</label><div class=\"sk-toggleable__content\"><pre>ColumnTransformer(transformers=[(&#x27;num&#x27;, SimpleImputer(),\n",
              "                                 Index([&#x27;Employment&#x27;, &#x27;YearsCode&#x27;, &#x27;YearsCodePro&#x27;, &#x27;PreviousSalary&#x27;,\n",
              "       &#x27;ComputerSkills&#x27;],\n",
              "      dtype=&#x27;object&#x27;)),\n",
              "                                (&#x27;cat&#x27;,\n",
              "                                 Pipeline(steps=[(&#x27;imputer&#x27;,\n",
              "                                                  SimpleImputer(strategy=&#x27;most_frequent&#x27;)),\n",
              "                                                 (&#x27;onehot&#x27;,\n",
              "                                                  OneHotEncoder(handle_unknown=&#x27;ignore&#x27;))]),\n",
              "                                 Index([&#x27;Age&#x27;, &#x27;Accessibility&#x27;, &#x27;EdLevel&#x27;, &#x27;Gender&#x27;, &#x27;MentalHealth&#x27;,\n",
              "       &#x27;MainBranch&#x27;],\n",
              "      dtype=&#x27;object&#x27;))])</pre></div></div></div><div class=\"sk-parallel\"><div class=\"sk-parallel-item\"><div class=\"sk-item\"><div class=\"sk-label-container\"><div class=\"sk-label sk-toggleable\"><input class=\"sk-toggleable__control sk-hidden--visually\" id=\"sk-estimator-id-19\" type=\"checkbox\" ><label for=\"sk-estimator-id-19\" class=\"sk-toggleable__label sk-toggleable__label-arrow\">num</label><div class=\"sk-toggleable__content\"><pre>Index([&#x27;Employment&#x27;, &#x27;YearsCode&#x27;, &#x27;YearsCodePro&#x27;, &#x27;PreviousSalary&#x27;,\n",
              "       &#x27;ComputerSkills&#x27;],\n",
              "      dtype=&#x27;object&#x27;)</pre></div></div></div><div class=\"sk-serial\"><div class=\"sk-item\"><div class=\"sk-estimator sk-toggleable\"><input class=\"sk-toggleable__control sk-hidden--visually\" id=\"sk-estimator-id-20\" type=\"checkbox\" ><label for=\"sk-estimator-id-20\" class=\"sk-toggleable__label sk-toggleable__label-arrow\">SimpleImputer</label><div class=\"sk-toggleable__content\"><pre>SimpleImputer()</pre></div></div></div></div></div></div><div class=\"sk-parallel-item\"><div class=\"sk-item\"><div class=\"sk-label-container\"><div class=\"sk-label sk-toggleable\"><input class=\"sk-toggleable__control sk-hidden--visually\" id=\"sk-estimator-id-21\" type=\"checkbox\" ><label for=\"sk-estimator-id-21\" class=\"sk-toggleable__label sk-toggleable__label-arrow\">cat</label><div class=\"sk-toggleable__content\"><pre>Index([&#x27;Age&#x27;, &#x27;Accessibility&#x27;, &#x27;EdLevel&#x27;, &#x27;Gender&#x27;, &#x27;MentalHealth&#x27;,\n",
              "       &#x27;MainBranch&#x27;],\n",
              "      dtype=&#x27;object&#x27;)</pre></div></div></div><div class=\"sk-serial\"><div class=\"sk-item\"><div class=\"sk-serial\"><div class=\"sk-item\"><div class=\"sk-estimator sk-toggleable\"><input class=\"sk-toggleable__control sk-hidden--visually\" id=\"sk-estimator-id-22\" type=\"checkbox\" ><label for=\"sk-estimator-id-22\" class=\"sk-toggleable__label sk-toggleable__label-arrow\">SimpleImputer</label><div class=\"sk-toggleable__content\"><pre>SimpleImputer(strategy=&#x27;most_frequent&#x27;)</pre></div></div></div><div class=\"sk-item\"><div class=\"sk-estimator sk-toggleable\"><input class=\"sk-toggleable__control sk-hidden--visually\" id=\"sk-estimator-id-23\" type=\"checkbox\" ><label for=\"sk-estimator-id-23\" class=\"sk-toggleable__label sk-toggleable__label-arrow\">OneHotEncoder</label><div class=\"sk-toggleable__content\"><pre>OneHotEncoder(handle_unknown=&#x27;ignore&#x27;)</pre></div></div></div></div></div></div></div></div></div></div><div class=\"sk-item\"><div class=\"sk-estimator sk-toggleable\"><input class=\"sk-toggleable__control sk-hidden--visually\" id=\"sk-estimator-id-24\" type=\"checkbox\" ><label for=\"sk-estimator-id-24\" class=\"sk-toggleable__label sk-toggleable__label-arrow\">HistGradientBoostingClassifier</label><div class=\"sk-toggleable__content\"><pre>HistGradientBoostingClassifier()</pre></div></div></div></div></div></div></div>"
            ]
          },
          "metadata": {},
          "execution_count": 16
        }
      ]
    },
    {
      "cell_type": "markdown",
      "source": [
        "### Comparison"
      ],
      "metadata": {
        "id": "q9a6y7qcMYji"
      }
    },
    {
      "cell_type": "markdown",
      "source": [
        "We keep the comparison for Gradient Boosting as it is the model that's most sensitive to mitigation."
      ],
      "metadata": {
        "id": "NMgwkikG970K"
      }
    },
    {
      "cell_type": "code",
      "source": [
        "gb_exp_u = dx.Explainer(gb_u, X, y, verbose= False)\n",
        "gb_exp_p = dx.Explainer(gb_p, X, y, verbose= False)\n",
        "gb_exp_w = dx.Explainer(gb_weighted, X, y, verbose= False)\n",
        "\n",
        "fobject_b = gb_exp.model_fairness(protected, privileged, label='base')\n",
        "fobject_w = gb_exp_w.model_fairness(protected, privileged, label='weighted')\n",
        "fobject_u = gb_exp_u.model_fairness(protected, privileged, label='res_unif')\n",
        "fobject_p = gb_exp_p.model_fairness(protected, privileged, label='res_pref')\n",
        "\n",
        "fobject_b.plot([fobject_w, fobject_u, fobject_p])"
      ],
      "metadata": {
        "colab": {
          "base_uri": "https://localhost:8080/",
          "height": 542
        },
        "id": "dkNroMUR9o_i",
        "outputId": "c0c849f7-79ba-41f3-f89f-b5c63a1c7f54"
      },
      "execution_count": 17,
      "outputs": [
        {
          "output_type": "display_data",
          "data": {
            "text/html": [
              "<html>\n",
              "<head><meta charset=\"utf-8\" /></head>\n",
              "<body>\n",
              "    <div>            <script src=\"https://cdnjs.cloudflare.com/ajax/libs/mathjax/2.7.5/MathJax.js?config=TeX-AMS-MML_SVG\"></script><script type=\"text/javascript\">if (window.MathJax && window.MathJax.Hub && window.MathJax.Hub.Config) {window.MathJax.Hub.Config({SVG: {font: \"STIX-Web\"}});}</script>                <script type=\"text/javascript\">window.PlotlyConfig = {MathJaxConfig: 'local'};</script>\n",
              "        <script charset=\"utf-8\" src=\"https://cdn.plot.ly/plotly-2.24.1.min.js\"></script>                <div id=\"97f8039b-6f96-46af-b472-7bdaab9d2ed8\" class=\"plotly-graph-div\" style=\"height:525px; width:100%;\"></div>            <script type=\"text/javascript\">                                    window.PLOTLYENV=window.PLOTLYENV || {};                                    if (document.getElementById(\"97f8039b-6f96-46af-b472-7bdaab9d2ed8\")) {                    Plotly.newPlot(                        \"97f8039b-6f96-46af-b472-7bdaab9d2ed8\",                        [{\"alignmentgroup\":\"True\",\"customdata\":[[\"NonBinary\",1.032,\"base\"],[\"Woman\",0.942,\"base\"]],\"hovertemplate\":\"\\u003cb\\u003e%{customdata[2]}\\u003c\\u002fb\\u003e\\u003cbr\\u003eSubgroup: %{customdata[0]}\\u003cbr\\u003eScore: %{customdata[1]}\\u003cbr\\u003e\\u003cextra\\u003e\\u003c\\u002fextra\\u003e\",\"legendgroup\":\"base\",\"marker\":{\"color\":\"#8bdcbe\",\"pattern\":{\"shape\":\"\"}},\"name\":\"base\",\"offsetgroup\":\"base\",\"orientation\":\"h\",\"showlegend\":true,\"textposition\":\"auto\",\"x\":[0.03221957040572798,-0.05847255369928395],\"xaxis\":\"x5\",\"y\":[0.3333333333333333,0.6666666666666666],\"yaxis\":\"y5\",\"type\":\"bar\"},{\"alignmentgroup\":\"True\",\"customdata\":[[\"NonBinary\",1.006,\"base\"],[\"Woman\",0.976,\"base\"]],\"hovertemplate\":\"\\u003cb\\u003e%{customdata[2]}\\u003c\\u002fb\\u003e\\u003cbr\\u003eSubgroup: %{customdata[0]}\\u003cbr\\u003eScore: %{customdata[1]}\\u003cbr\\u003e\\u003cextra\\u003e\\u003c\\u002fextra\\u003e\",\"legendgroup\":\"base\",\"marker\":{\"color\":\"#8bdcbe\",\"pattern\":{\"shape\":\"\"}},\"name\":\"base\",\"offsetgroup\":\"base\",\"orientation\":\"h\",\"showlegend\":false,\"textposition\":\"auto\",\"x\":[0.006345177664974555,-0.024111675126903598],\"xaxis\":\"x4\",\"y\":[0.3333333333333333,0.6666666666666666],\"yaxis\":\"y4\",\"type\":\"bar\"},{\"alignmentgroup\":\"True\",\"customdata\":[[\"NonBinary\",0.974,\"base\"],[\"Woman\",0.728,\"base\"]],\"hovertemplate\":\"\\u003cb\\u003e%{customdata[2]}\\u003c\\u002fb\\u003e\\u003cbr\\u003eSubgroup: %{customdata[0]}\\u003cbr\\u003eScore: %{customdata[1]}\\u003cbr\\u003e\\u003cextra\\u003e\\u003c\\u002fextra\\u003e\",\"legendgroup\":\"base\",\"marker\":{\"color\":\"#8bdcbe\",\"pattern\":{\"shape\":\"\"}},\"name\":\"base\",\"offsetgroup\":\"base\",\"orientation\":\"h\",\"showlegend\":false,\"textposition\":\"auto\",\"x\":[-0.026415094339622636,-0.2716981132075472],\"xaxis\":\"x3\",\"y\":[0.3333333333333333,0.6666666666666666],\"yaxis\":\"y3\",\"type\":\"bar\"},{\"alignmentgroup\":\"True\",\"customdata\":[[\"NonBinary\",1.02,\"base\"],[\"Woman\",1.01,\"base\"]],\"hovertemplate\":\"\\u003cb\\u003e%{customdata[2]}\\u003c\\u002fb\\u003e\\u003cbr\\u003eSubgroup: %{customdata[0]}\\u003cbr\\u003eScore: %{customdata[1]}\\u003cbr\\u003e\\u003cextra\\u003e\\u003c\\u002fextra\\u003e\",\"legendgroup\":\"base\",\"marker\":{\"color\":\"#8bdcbe\",\"pattern\":{\"shape\":\"\"}},\"name\":\"base\",\"offsetgroup\":\"base\",\"orientation\":\"h\",\"showlegend\":false,\"textposition\":\"auto\",\"x\":[0.020227560050569027,0.010113780025284402],\"xaxis\":\"x2\",\"y\":[0.3333333333333333,0.6666666666666666],\"yaxis\":\"y2\",\"type\":\"bar\"},{\"alignmentgroup\":\"True\",\"customdata\":[[\"NonBinary\",1.01,\"base\"],[\"Woman\",0.802,\"base\"]],\"hovertemplate\":\"\\u003cb\\u003e%{customdata[2]}\\u003c\\u002fb\\u003e\\u003cbr\\u003eSubgroup: %{customdata[0]}\\u003cbr\\u003eScore: %{customdata[1]}\\u003cbr\\u003e\\u003cextra\\u003e\\u003c\\u002fextra\\u003e\",\"legendgroup\":\"base\",\"marker\":{\"color\":\"#8bdcbe\",\"pattern\":{\"shape\":\"\"}},\"name\":\"base\",\"offsetgroup\":\"base\",\"orientation\":\"h\",\"showlegend\":false,\"textposition\":\"auto\",\"x\":[0.01043478260869568,-0.19826086956521727],\"xaxis\":\"x\",\"y\":[0.3333333333333333,0.6666666666666666],\"yaxis\":\"y\",\"type\":\"bar\"},{\"alignmentgroup\":\"True\",\"customdata\":[[\"NonBinary\",1.034,\"weighted\"],[\"Woman\",1.006,\"weighted\"]],\"hovertemplate\":\"\\u003cb\\u003e%{customdata[2]}\\u003c\\u002fb\\u003e\\u003cbr\\u003eSubgroup: %{customdata[0]}\\u003cbr\\u003eScore: %{customdata[1]}\\u003cbr\\u003e\\u003cextra\\u003e\\u003c\\u002fextra\\u003e\",\"legendgroup\":\"weighted\",\"marker\":{\"color\":\"#f05a71\",\"pattern\":{\"shape\":\"\"}},\"name\":\"weighted\",\"offsetgroup\":\"weighted\",\"orientation\":\"h\",\"showlegend\":true,\"textposition\":\"auto\",\"x\":[0.033532934131736525,0.0059880239520957446],\"xaxis\":\"x5\",\"y\":[0.3333333333333333,0.6666666666666666],\"yaxis\":\"y5\",\"type\":\"bar\"},{\"alignmentgroup\":\"True\",\"customdata\":[[\"NonBinary\",1.009,\"weighted\"],[\"Woman\",0.951,\"weighted\"]],\"hovertemplate\":\"\\u003cb\\u003e%{customdata[2]}\\u003c\\u002fb\\u003e\\u003cbr\\u003eSubgroup: %{customdata[0]}\\u003cbr\\u003eScore: %{customdata[1]}\\u003cbr\\u003e\\u003cextra\\u003e\\u003c\\u002fextra\\u003e\",\"legendgroup\":\"weighted\",\"marker\":{\"color\":\"#f05a71\",\"pattern\":{\"shape\":\"\"}},\"name\":\"weighted\",\"offsetgroup\":\"weighted\",\"orientation\":\"h\",\"showlegend\":false,\"textposition\":\"auto\",\"x\":[0.008883248730964466,-0.04949238578680204],\"xaxis\":\"x4\",\"y\":[0.3333333333333333,0.6666666666666666],\"yaxis\":\"y4\",\"type\":\"bar\"},{\"alignmentgroup\":\"True\",\"customdata\":[[\"NonBinary\",0.966,\"weighted\"],[\"Woman\",0.867,\"weighted\"]],\"hovertemplate\":\"\\u003cb\\u003e%{customdata[2]}\\u003c\\u002fb\\u003e\\u003cbr\\u003eSubgroup: %{customdata[0]}\\u003cbr\\u003eScore: %{customdata[1]}\\u003cbr\\u003e\\u003cextra\\u003e\\u003c\\u002fextra\\u003e\",\"legendgroup\":\"weighted\",\"marker\":{\"color\":\"#f05a71\",\"pattern\":{\"shape\":\"\"}},\"name\":\"weighted\",\"offsetgroup\":\"weighted\",\"orientation\":\"h\",\"showlegend\":false,\"textposition\":\"auto\",\"x\":[-0.03409090909090917,-0.13257575757575757],\"xaxis\":\"x3\",\"y\":[0.3333333333333333,0.6666666666666666],\"yaxis\":\"y3\",\"type\":\"bar\"},{\"alignmentgroup\":\"True\",\"customdata\":[[\"NonBinary\",1.023,\"weighted\"],[\"Woman\",1.015,\"weighted\"]],\"hovertemplate\":\"\\u003cb\\u003e%{customdata[2]}\\u003c\\u002fb\\u003e\\u003cbr\\u003eSubgroup: %{customdata[0]}\\u003cbr\\u003eScore: %{customdata[1]}\\u003cbr\\u003e\\u003cextra\\u003e\\u003c\\u002fextra\\u003e\",\"legendgroup\":\"weighted\",\"marker\":{\"color\":\"#f05a71\",\"pattern\":{\"shape\":\"\"}},\"name\":\"weighted\",\"offsetgroup\":\"weighted\",\"orientation\":\"h\",\"showlegend\":false,\"textposition\":\"auto\",\"x\":[0.0227848101265824,0.0151898734177216],\"xaxis\":\"x2\",\"y\":[0.3333333333333333,0.6666666666666666],\"yaxis\":\"y2\",\"type\":\"bar\"},{\"alignmentgroup\":\"True\",\"customdata\":[[\"NonBinary\",1.01,\"weighted\"],[\"Woman\",0.878,\"weighted\"]],\"hovertemplate\":\"\\u003cb\\u003e%{customdata[2]}\\u003c\\u002fb\\u003e\\u003cbr\\u003eSubgroup: %{customdata[0]}\\u003cbr\\u003eScore: %{customdata[1]}\\u003cbr\\u003e\\u003cextra\\u003e\\u003c\\u002fextra\\u003e\",\"legendgroup\":\"weighted\",\"marker\":{\"color\":\"#f05a71\",\"pattern\":{\"shape\":\"\"}},\"name\":\"weighted\",\"offsetgroup\":\"weighted\",\"orientation\":\"h\",\"showlegend\":false,\"textposition\":\"auto\",\"x\":[0.010471204188481575,-0.12216404886561949],\"xaxis\":\"x\",\"y\":[0.3333333333333333,0.6666666666666666],\"yaxis\":\"y\",\"type\":\"bar\"},{\"alignmentgroup\":\"True\",\"customdata\":[[\"NonBinary\",1.034,\"res_unif\"],[\"Woman\",1.006,\"res_unif\"]],\"hovertemplate\":\"\\u003cb\\u003e%{customdata[2]}\\u003c\\u002fb\\u003e\\u003cbr\\u003eSubgroup: %{customdata[0]}\\u003cbr\\u003eScore: %{customdata[1]}\\u003cbr\\u003e\\u003cextra\\u003e\\u003c\\u002fextra\\u003e\",\"legendgroup\":\"res_unif\",\"marker\":{\"color\":\"#4378bf\",\"pattern\":{\"shape\":\"\"}},\"name\":\"res_unif\",\"offsetgroup\":\"res_unif\",\"orientation\":\"h\",\"showlegend\":true,\"textposition\":\"auto\",\"x\":[0.033532934131736525,0.0059880239520957446],\"xaxis\":\"x5\",\"y\":[0.3333333333333333,0.6666666666666666],\"yaxis\":\"y5\",\"type\":\"bar\"},{\"alignmentgroup\":\"True\",\"customdata\":[[\"NonBinary\",1.009,\"res_unif\"],[\"Woman\",0.951,\"res_unif\"]],\"hovertemplate\":\"\\u003cb\\u003e%{customdata[2]}\\u003c\\u002fb\\u003e\\u003cbr\\u003eSubgroup: %{customdata[0]}\\u003cbr\\u003eScore: %{customdata[1]}\\u003cbr\\u003e\\u003cextra\\u003e\\u003c\\u002fextra\\u003e\",\"legendgroup\":\"res_unif\",\"marker\":{\"color\":\"#4378bf\",\"pattern\":{\"shape\":\"\"}},\"name\":\"res_unif\",\"offsetgroup\":\"res_unif\",\"orientation\":\"h\",\"showlegend\":false,\"textposition\":\"auto\",\"x\":[0.008883248730964466,-0.04949238578680204],\"xaxis\":\"x4\",\"y\":[0.3333333333333333,0.6666666666666666],\"yaxis\":\"y4\",\"type\":\"bar\"},{\"alignmentgroup\":\"True\",\"customdata\":[[\"NonBinary\",0.966,\"res_unif\"],[\"Woman\",0.867,\"res_unif\"]],\"hovertemplate\":\"\\u003cb\\u003e%{customdata[2]}\\u003c\\u002fb\\u003e\\u003cbr\\u003eSubgroup: %{customdata[0]}\\u003cbr\\u003eScore: %{customdata[1]}\\u003cbr\\u003e\\u003cextra\\u003e\\u003c\\u002fextra\\u003e\",\"legendgroup\":\"res_unif\",\"marker\":{\"color\":\"#4378bf\",\"pattern\":{\"shape\":\"\"}},\"name\":\"res_unif\",\"offsetgroup\":\"res_unif\",\"orientation\":\"h\",\"showlegend\":false,\"textposition\":\"auto\",\"x\":[-0.03409090909090917,-0.13257575757575757],\"xaxis\":\"x3\",\"y\":[0.3333333333333333,0.6666666666666666],\"yaxis\":\"y3\",\"type\":\"bar\"},{\"alignmentgroup\":\"True\",\"customdata\":[[\"NonBinary\",1.023,\"res_unif\"],[\"Woman\",1.015,\"res_unif\"]],\"hovertemplate\":\"\\u003cb\\u003e%{customdata[2]}\\u003c\\u002fb\\u003e\\u003cbr\\u003eSubgroup: %{customdata[0]}\\u003cbr\\u003eScore: %{customdata[1]}\\u003cbr\\u003e\\u003cextra\\u003e\\u003c\\u002fextra\\u003e\",\"legendgroup\":\"res_unif\",\"marker\":{\"color\":\"#4378bf\",\"pattern\":{\"shape\":\"\"}},\"name\":\"res_unif\",\"offsetgroup\":\"res_unif\",\"orientation\":\"h\",\"showlegend\":false,\"textposition\":\"auto\",\"x\":[0.0227848101265824,0.0151898734177216],\"xaxis\":\"x2\",\"y\":[0.3333333333333333,0.6666666666666666],\"yaxis\":\"y2\",\"type\":\"bar\"},{\"alignmentgroup\":\"True\",\"customdata\":[[\"NonBinary\",1.01,\"res_unif\"],[\"Woman\",0.878,\"res_unif\"]],\"hovertemplate\":\"\\u003cb\\u003e%{customdata[2]}\\u003c\\u002fb\\u003e\\u003cbr\\u003eSubgroup: %{customdata[0]}\\u003cbr\\u003eScore: %{customdata[1]}\\u003cbr\\u003e\\u003cextra\\u003e\\u003c\\u002fextra\\u003e\",\"legendgroup\":\"res_unif\",\"marker\":{\"color\":\"#4378bf\",\"pattern\":{\"shape\":\"\"}},\"name\":\"res_unif\",\"offsetgroup\":\"res_unif\",\"orientation\":\"h\",\"showlegend\":false,\"textposition\":\"auto\",\"x\":[0.010471204188481575,-0.12216404886561949],\"xaxis\":\"x\",\"y\":[0.3333333333333333,0.6666666666666666],\"yaxis\":\"y\",\"type\":\"bar\"},{\"alignmentgroup\":\"True\",\"customdata\":[[\"NonBinary\",1.034,\"res_pref\"],[\"Woman\",1.006,\"res_pref\"]],\"hovertemplate\":\"\\u003cb\\u003e%{customdata[2]}\\u003c\\u002fb\\u003e\\u003cbr\\u003eSubgroup: %{customdata[0]}\\u003cbr\\u003eScore: %{customdata[1]}\\u003cbr\\u003e\\u003cextra\\u003e\\u003c\\u002fextra\\u003e\",\"legendgroup\":\"res_pref\",\"marker\":{\"color\":\"#ffa58c\",\"pattern\":{\"shape\":\"\"}},\"name\":\"res_pref\",\"offsetgroup\":\"res_pref\",\"orientation\":\"h\",\"showlegend\":true,\"textposition\":\"auto\",\"x\":[0.033532934131736525,0.0059880239520957446],\"xaxis\":\"x5\",\"y\":[0.3333333333333333,0.6666666666666666],\"yaxis\":\"y5\",\"type\":\"bar\"},{\"alignmentgroup\":\"True\",\"customdata\":[[\"NonBinary\",1.009,\"res_pref\"],[\"Woman\",0.951,\"res_pref\"]],\"hovertemplate\":\"\\u003cb\\u003e%{customdata[2]}\\u003c\\u002fb\\u003e\\u003cbr\\u003eSubgroup: %{customdata[0]}\\u003cbr\\u003eScore: %{customdata[1]}\\u003cbr\\u003e\\u003cextra\\u003e\\u003c\\u002fextra\\u003e\",\"legendgroup\":\"res_pref\",\"marker\":{\"color\":\"#ffa58c\",\"pattern\":{\"shape\":\"\"}},\"name\":\"res_pref\",\"offsetgroup\":\"res_pref\",\"orientation\":\"h\",\"showlegend\":false,\"textposition\":\"auto\",\"x\":[0.008883248730964466,-0.04949238578680204],\"xaxis\":\"x4\",\"y\":[0.3333333333333333,0.6666666666666666],\"yaxis\":\"y4\",\"type\":\"bar\"},{\"alignmentgroup\":\"True\",\"customdata\":[[\"NonBinary\",0.966,\"res_pref\"],[\"Woman\",0.867,\"res_pref\"]],\"hovertemplate\":\"\\u003cb\\u003e%{customdata[2]}\\u003c\\u002fb\\u003e\\u003cbr\\u003eSubgroup: %{customdata[0]}\\u003cbr\\u003eScore: %{customdata[1]}\\u003cbr\\u003e\\u003cextra\\u003e\\u003c\\u002fextra\\u003e\",\"legendgroup\":\"res_pref\",\"marker\":{\"color\":\"#ffa58c\",\"pattern\":{\"shape\":\"\"}},\"name\":\"res_pref\",\"offsetgroup\":\"res_pref\",\"orientation\":\"h\",\"showlegend\":false,\"textposition\":\"auto\",\"x\":[-0.03409090909090917,-0.13257575757575757],\"xaxis\":\"x3\",\"y\":[0.3333333333333333,0.6666666666666666],\"yaxis\":\"y3\",\"type\":\"bar\"},{\"alignmentgroup\":\"True\",\"customdata\":[[\"NonBinary\",1.023,\"res_pref\"],[\"Woman\",1.015,\"res_pref\"]],\"hovertemplate\":\"\\u003cb\\u003e%{customdata[2]}\\u003c\\u002fb\\u003e\\u003cbr\\u003eSubgroup: %{customdata[0]}\\u003cbr\\u003eScore: %{customdata[1]}\\u003cbr\\u003e\\u003cextra\\u003e\\u003c\\u002fextra\\u003e\",\"legendgroup\":\"res_pref\",\"marker\":{\"color\":\"#ffa58c\",\"pattern\":{\"shape\":\"\"}},\"name\":\"res_pref\",\"offsetgroup\":\"res_pref\",\"orientation\":\"h\",\"showlegend\":false,\"textposition\":\"auto\",\"x\":[0.0227848101265824,0.0151898734177216],\"xaxis\":\"x2\",\"y\":[0.3333333333333333,0.6666666666666666],\"yaxis\":\"y2\",\"type\":\"bar\"},{\"alignmentgroup\":\"True\",\"customdata\":[[\"NonBinary\",1.01,\"res_pref\"],[\"Woman\",0.878,\"res_pref\"]],\"hovertemplate\":\"\\u003cb\\u003e%{customdata[2]}\\u003c\\u002fb\\u003e\\u003cbr\\u003eSubgroup: %{customdata[0]}\\u003cbr\\u003eScore: %{customdata[1]}\\u003cbr\\u003e\\u003cextra\\u003e\\u003c\\u002fextra\\u003e\",\"legendgroup\":\"res_pref\",\"marker\":{\"color\":\"#ffa58c\",\"pattern\":{\"shape\":\"\"}},\"name\":\"res_pref\",\"offsetgroup\":\"res_pref\",\"orientation\":\"h\",\"showlegend\":false,\"textposition\":\"auto\",\"x\":[0.010471204188481575,-0.12216404886561949],\"xaxis\":\"x\",\"y\":[0.3333333333333333,0.6666666666666666],\"yaxis\":\"y\",\"type\":\"bar\"}],                        {\"template\":{\"data\":{\"barpolar\":[{\"marker\":{\"line\":{\"color\":\"white\",\"width\":0.5},\"pattern\":{\"fillmode\":\"overlay\",\"size\":10,\"solidity\":0.2}},\"type\":\"barpolar\"}],\"bar\":[{\"error_x\":{\"color\":\"#2a3f5f\"},\"error_y\":{\"color\":\"#2a3f5f\"},\"marker\":{\"line\":{\"color\":\"white\",\"width\":0.5},\"pattern\":{\"fillmode\":\"overlay\",\"size\":10,\"solidity\":0.2}},\"type\":\"bar\"}],\"carpet\":[{\"aaxis\":{\"endlinecolor\":\"#2a3f5f\",\"gridcolor\":\"#C8D4E3\",\"linecolor\":\"#C8D4E3\",\"minorgridcolor\":\"#C8D4E3\",\"startlinecolor\":\"#2a3f5f\"},\"baxis\":{\"endlinecolor\":\"#2a3f5f\",\"gridcolor\":\"#C8D4E3\",\"linecolor\":\"#C8D4E3\",\"minorgridcolor\":\"#C8D4E3\",\"startlinecolor\":\"#2a3f5f\"},\"type\":\"carpet\"}],\"choropleth\":[{\"colorbar\":{\"outlinewidth\":0,\"ticks\":\"\"},\"type\":\"choropleth\"}],\"contourcarpet\":[{\"colorbar\":{\"outlinewidth\":0,\"ticks\":\"\"},\"type\":\"contourcarpet\"}],\"contour\":[{\"colorbar\":{\"outlinewidth\":0,\"ticks\":\"\"},\"colorscale\":[[0.0,\"#0d0887\"],[0.1111111111111111,\"#46039f\"],[0.2222222222222222,\"#7201a8\"],[0.3333333333333333,\"#9c179e\"],[0.4444444444444444,\"#bd3786\"],[0.5555555555555556,\"#d8576b\"],[0.6666666666666666,\"#ed7953\"],[0.7777777777777778,\"#fb9f3a\"],[0.8888888888888888,\"#fdca26\"],[1.0,\"#f0f921\"]],\"type\":\"contour\"}],\"heatmapgl\":[{\"colorbar\":{\"outlinewidth\":0,\"ticks\":\"\"},\"colorscale\":[[0.0,\"#0d0887\"],[0.1111111111111111,\"#46039f\"],[0.2222222222222222,\"#7201a8\"],[0.3333333333333333,\"#9c179e\"],[0.4444444444444444,\"#bd3786\"],[0.5555555555555556,\"#d8576b\"],[0.6666666666666666,\"#ed7953\"],[0.7777777777777778,\"#fb9f3a\"],[0.8888888888888888,\"#fdca26\"],[1.0,\"#f0f921\"]],\"type\":\"heatmapgl\"}],\"heatmap\":[{\"colorbar\":{\"outlinewidth\":0,\"ticks\":\"\"},\"colorscale\":[[0.0,\"#0d0887\"],[0.1111111111111111,\"#46039f\"],[0.2222222222222222,\"#7201a8\"],[0.3333333333333333,\"#9c179e\"],[0.4444444444444444,\"#bd3786\"],[0.5555555555555556,\"#d8576b\"],[0.6666666666666666,\"#ed7953\"],[0.7777777777777778,\"#fb9f3a\"],[0.8888888888888888,\"#fdca26\"],[1.0,\"#f0f921\"]],\"type\":\"heatmap\"}],\"histogram2dcontour\":[{\"colorbar\":{\"outlinewidth\":0,\"ticks\":\"\"},\"colorscale\":[[0.0,\"#0d0887\"],[0.1111111111111111,\"#46039f\"],[0.2222222222222222,\"#7201a8\"],[0.3333333333333333,\"#9c179e\"],[0.4444444444444444,\"#bd3786\"],[0.5555555555555556,\"#d8576b\"],[0.6666666666666666,\"#ed7953\"],[0.7777777777777778,\"#fb9f3a\"],[0.8888888888888888,\"#fdca26\"],[1.0,\"#f0f921\"]],\"type\":\"histogram2dcontour\"}],\"histogram2d\":[{\"colorbar\":{\"outlinewidth\":0,\"ticks\":\"\"},\"colorscale\":[[0.0,\"#0d0887\"],[0.1111111111111111,\"#46039f\"],[0.2222222222222222,\"#7201a8\"],[0.3333333333333333,\"#9c179e\"],[0.4444444444444444,\"#bd3786\"],[0.5555555555555556,\"#d8576b\"],[0.6666666666666666,\"#ed7953\"],[0.7777777777777778,\"#fb9f3a\"],[0.8888888888888888,\"#fdca26\"],[1.0,\"#f0f921\"]],\"type\":\"histogram2d\"}],\"histogram\":[{\"marker\":{\"pattern\":{\"fillmode\":\"overlay\",\"size\":10,\"solidity\":0.2}},\"type\":\"histogram\"}],\"mesh3d\":[{\"colorbar\":{\"outlinewidth\":0,\"ticks\":\"\"},\"type\":\"mesh3d\"}],\"parcoords\":[{\"line\":{\"colorbar\":{\"outlinewidth\":0,\"ticks\":\"\"}},\"type\":\"parcoords\"}],\"pie\":[{\"automargin\":true,\"type\":\"pie\"}],\"scatter3d\":[{\"line\":{\"colorbar\":{\"outlinewidth\":0,\"ticks\":\"\"}},\"marker\":{\"colorbar\":{\"outlinewidth\":0,\"ticks\":\"\"}},\"type\":\"scatter3d\"}],\"scattercarpet\":[{\"marker\":{\"colorbar\":{\"outlinewidth\":0,\"ticks\":\"\"}},\"type\":\"scattercarpet\"}],\"scattergeo\":[{\"marker\":{\"colorbar\":{\"outlinewidth\":0,\"ticks\":\"\"}},\"type\":\"scattergeo\"}],\"scattergl\":[{\"marker\":{\"colorbar\":{\"outlinewidth\":0,\"ticks\":\"\"}},\"type\":\"scattergl\"}],\"scattermapbox\":[{\"marker\":{\"colorbar\":{\"outlinewidth\":0,\"ticks\":\"\"}},\"type\":\"scattermapbox\"}],\"scatterpolargl\":[{\"marker\":{\"colorbar\":{\"outlinewidth\":0,\"ticks\":\"\"}},\"type\":\"scatterpolargl\"}],\"scatterpolar\":[{\"marker\":{\"colorbar\":{\"outlinewidth\":0,\"ticks\":\"\"}},\"type\":\"scatterpolar\"}],\"scatter\":[{\"fillpattern\":{\"fillmode\":\"overlay\",\"size\":10,\"solidity\":0.2},\"type\":\"scatter\"}],\"scatterternary\":[{\"marker\":{\"colorbar\":{\"outlinewidth\":0,\"ticks\":\"\"}},\"type\":\"scatterternary\"}],\"surface\":[{\"colorbar\":{\"outlinewidth\":0,\"ticks\":\"\"},\"colorscale\":[[0.0,\"#0d0887\"],[0.1111111111111111,\"#46039f\"],[0.2222222222222222,\"#7201a8\"],[0.3333333333333333,\"#9c179e\"],[0.4444444444444444,\"#bd3786\"],[0.5555555555555556,\"#d8576b\"],[0.6666666666666666,\"#ed7953\"],[0.7777777777777778,\"#fb9f3a\"],[0.8888888888888888,\"#fdca26\"],[1.0,\"#f0f921\"]],\"type\":\"surface\"}],\"table\":[{\"cells\":{\"fill\":{\"color\":\"#EBF0F8\"},\"line\":{\"color\":\"white\"}},\"header\":{\"fill\":{\"color\":\"#C8D4E3\"},\"line\":{\"color\":\"white\"}},\"type\":\"table\"}]},\"layout\":{\"annotationdefaults\":{\"arrowcolor\":\"#2a3f5f\",\"arrowhead\":0,\"arrowwidth\":1},\"autotypenumbers\":\"strict\",\"coloraxis\":{\"colorbar\":{\"outlinewidth\":0,\"ticks\":\"\"}},\"colorscale\":{\"diverging\":[[0,\"#8e0152\"],[0.1,\"#c51b7d\"],[0.2,\"#de77ae\"],[0.3,\"#f1b6da\"],[0.4,\"#fde0ef\"],[0.5,\"#f7f7f7\"],[0.6,\"#e6f5d0\"],[0.7,\"#b8e186\"],[0.8,\"#7fbc41\"],[0.9,\"#4d9221\"],[1,\"#276419\"]],\"sequential\":[[0.0,\"#0d0887\"],[0.1111111111111111,\"#46039f\"],[0.2222222222222222,\"#7201a8\"],[0.3333333333333333,\"#9c179e\"],[0.4444444444444444,\"#bd3786\"],[0.5555555555555556,\"#d8576b\"],[0.6666666666666666,\"#ed7953\"],[0.7777777777777778,\"#fb9f3a\"],[0.8888888888888888,\"#fdca26\"],[1.0,\"#f0f921\"]],\"sequentialminus\":[[0.0,\"#0d0887\"],[0.1111111111111111,\"#46039f\"],[0.2222222222222222,\"#7201a8\"],[0.3333333333333333,\"#9c179e\"],[0.4444444444444444,\"#bd3786\"],[0.5555555555555556,\"#d8576b\"],[0.6666666666666666,\"#ed7953\"],[0.7777777777777778,\"#fb9f3a\"],[0.8888888888888888,\"#fdca26\"],[1.0,\"#f0f921\"]]},\"colorway\":[\"#636efa\",\"#EF553B\",\"#00cc96\",\"#ab63fa\",\"#FFA15A\",\"#19d3f3\",\"#FF6692\",\"#B6E880\",\"#FF97FF\",\"#FECB52\"],\"font\":{\"color\":\"#2a3f5f\"},\"geo\":{\"bgcolor\":\"white\",\"lakecolor\":\"white\",\"landcolor\":\"white\",\"showlakes\":true,\"showland\":true,\"subunitcolor\":\"#C8D4E3\"},\"hoverlabel\":{\"align\":\"left\"},\"hovermode\":\"closest\",\"mapbox\":{\"style\":\"light\"},\"paper_bgcolor\":\"white\",\"plot_bgcolor\":\"white\",\"polar\":{\"angularaxis\":{\"gridcolor\":\"#EBF0F8\",\"linecolor\":\"#EBF0F8\",\"ticks\":\"\"},\"bgcolor\":\"white\",\"radialaxis\":{\"gridcolor\":\"#EBF0F8\",\"linecolor\":\"#EBF0F8\",\"ticks\":\"\"}},\"scene\":{\"xaxis\":{\"backgroundcolor\":\"white\",\"gridcolor\":\"#DFE8F3\",\"gridwidth\":2,\"linecolor\":\"#EBF0F8\",\"showbackground\":true,\"ticks\":\"\",\"zerolinecolor\":\"#EBF0F8\"},\"yaxis\":{\"backgroundcolor\":\"white\",\"gridcolor\":\"#DFE8F3\",\"gridwidth\":2,\"linecolor\":\"#EBF0F8\",\"showbackground\":true,\"ticks\":\"\",\"zerolinecolor\":\"#EBF0F8\"},\"zaxis\":{\"backgroundcolor\":\"white\",\"gridcolor\":\"#DFE8F3\",\"gridwidth\":2,\"linecolor\":\"#EBF0F8\",\"showbackground\":true,\"ticks\":\"\",\"zerolinecolor\":\"#EBF0F8\"}},\"shapedefaults\":{\"line\":{\"color\":\"#2a3f5f\"}},\"ternary\":{\"aaxis\":{\"gridcolor\":\"#DFE8F3\",\"linecolor\":\"#A2B1C6\",\"ticks\":\"\"},\"baxis\":{\"gridcolor\":\"#DFE8F3\",\"linecolor\":\"#A2B1C6\",\"ticks\":\"\"},\"bgcolor\":\"white\",\"caxis\":{\"gridcolor\":\"#DFE8F3\",\"linecolor\":\"#A2B1C6\",\"ticks\":\"\"}},\"title\":{\"x\":0.05},\"xaxis\":{\"automargin\":true,\"gridcolor\":\"#EBF0F8\",\"linecolor\":\"#EBF0F8\",\"ticks\":\"\",\"title\":{\"standoff\":15},\"zerolinecolor\":\"#EBF0F8\",\"zerolinewidth\":2},\"yaxis\":{\"automargin\":true,\"gridcolor\":\"#EBF0F8\",\"linecolor\":\"#EBF0F8\",\"ticks\":\"\",\"title\":{\"standoff\":15},\"zerolinecolor\":\"#EBF0F8\",\"zerolinewidth\":2}}},\"xaxis\":{\"anchor\":\"y\",\"domain\":[0.0,1.0],\"title\":{\"text\":\"score\"},\"tickvals\":[-0.30000000000000004,-0.19999999999999996,-0.09999999999999998,0.0,0.10000000000000009,0.19999999999999996,0.0],\"ticktext\":[0.7,0.8,0.9,1.0,1.1,1.2,1.0],\"range\":[-0.29886792452830196,0.3]},\"yaxis\":{\"anchor\":\"x\",\"domain\":[0.0,0.144],\"title\":{\"text\":\"\"},\"tickvals\":[0.3333333333333333,0.6666666666666666],\"ticktext\":[\"NonBinary\",\"Woman\"],\"range\":[0,1],\"showgrid\":false,\"zeroline\":false},\"xaxis2\":{\"anchor\":\"y2\",\"domain\":[0.0,1.0],\"matches\":\"x\",\"showticklabels\":false,\"tickvals\":[-0.30000000000000004,-0.19999999999999996,-0.09999999999999998,0.0,0.10000000000000009,0.19999999999999996,0.0],\"ticktext\":[0.7,0.8,0.9,1.0,1.1,1.2,1.0],\"range\":[-0.29886792452830196,0.3]},\"yaxis2\":{\"anchor\":\"x2\",\"domain\":[0.214,0.358],\"matches\":\"y\",\"title\":{\"text\":\"\"},\"tickvals\":[0.3333333333333333,0.6666666666666666],\"ticktext\":[\"NonBinary\",\"Woman\"],\"range\":[0,1],\"showgrid\":false,\"zeroline\":false},\"xaxis3\":{\"anchor\":\"y3\",\"domain\":[0.0,1.0],\"matches\":\"x\",\"showticklabels\":false,\"tickvals\":[-0.30000000000000004,-0.19999999999999996,-0.09999999999999998,0.0,0.10000000000000009,0.19999999999999996,0.0],\"ticktext\":[0.7,0.8,0.9,1.0,1.1,1.2,1.0],\"range\":[-0.29886792452830196,0.3]},\"yaxis3\":{\"anchor\":\"x3\",\"domain\":[0.428,0.572],\"matches\":\"y\",\"title\":{\"text\":\"subgroup\"},\"tickvals\":[0.3333333333333333,0.6666666666666666],\"ticktext\":[\"NonBinary\",\"Woman\"],\"range\":[0,1],\"showgrid\":false,\"zeroline\":false},\"xaxis4\":{\"anchor\":\"y4\",\"domain\":[0.0,1.0],\"matches\":\"x\",\"showticklabels\":false,\"tickvals\":[-0.30000000000000004,-0.19999999999999996,-0.09999999999999998,0.0,0.10000000000000009,0.19999999999999996,0.0],\"ticktext\":[0.7,0.8,0.9,1.0,1.1,1.2,1.0],\"range\":[-0.29886792452830196,0.3]},\"yaxis4\":{\"anchor\":\"x4\",\"domain\":[0.6419999999999999,0.7859999999999999],\"matches\":\"y\",\"title\":{\"text\":\"\"},\"tickvals\":[0.3333333333333333,0.6666666666666666],\"ticktext\":[\"NonBinary\",\"Woman\"],\"range\":[0,1],\"showgrid\":false,\"zeroline\":false},\"xaxis5\":{\"anchor\":\"y5\",\"domain\":[0.0,1.0],\"matches\":\"x\",\"showticklabels\":false,\"tickvals\":[-0.30000000000000004,-0.19999999999999996,-0.09999999999999998,0.0,0.10000000000000009,0.19999999999999996,0.0],\"ticktext\":[0.7,0.8,0.9,1.0,1.1,1.2,1.0],\"range\":[-0.29886792452830196,0.3]},\"yaxis5\":{\"anchor\":\"x5\",\"domain\":[0.856,1.0],\"matches\":\"y\",\"title\":{\"text\":\"\"},\"tickvals\":[0.3333333333333333,0.6666666666666666],\"ticktext\":[\"NonBinary\",\"Woman\"],\"range\":[0,1],\"showgrid\":false,\"zeroline\":false},\"annotations\":[{\"font\":{\"size\":15},\"showarrow\":false,\"text\":\"Statistical parity ratio   (TP + FP)\\u002f(TP + FP + TN + FN)\",\"x\":0.05,\"xanchor\":\"left\",\"xref\":\"paper\",\"y\":0.144,\"yanchor\":\"bottom\",\"yref\":\"paper\"},{\"font\":{\"size\":15},\"showarrow\":false,\"text\":\"Accuracy equality ratio    (TP + TN)\\u002f(TP + FP + TN + FN)\",\"x\":0.05,\"xanchor\":\"left\",\"xref\":\"paper\",\"y\":0.358,\"yanchor\":\"bottom\",\"yref\":\"paper\"},{\"font\":{\"size\":15},\"showarrow\":false,\"text\":\"Predictive equality ratio   FP\\u002f(FP + TN)\",\"x\":0.05,\"xanchor\":\"left\",\"xref\":\"paper\",\"y\":0.572,\"yanchor\":\"bottom\",\"yref\":\"paper\"},{\"font\":{\"size\":15},\"showarrow\":false,\"text\":\"Predictive parity ratio     TP\\u002f(TP + FP)\",\"x\":0.05,\"xanchor\":\"left\",\"xref\":\"paper\",\"y\":0.7859999999999999,\"yanchor\":\"bottom\",\"yref\":\"paper\"},{\"font\":{\"size\":15},\"showarrow\":false,\"text\":\"Equal opportunity ratio     TP\\u002f(TP + FN)\",\"x\":0.05,\"xanchor\":\"left\",\"xref\":\"paper\",\"y\":1.0,\"yanchor\":\"bottom\",\"yref\":\"paper\"}],\"legend\":{\"title\":{\"text\":\"label\"},\"tracegroupgap\":0},\"margin\":{\"t\":78,\"b\":71,\"r\":30},\"barmode\":\"group\",\"shapes\":[{\"fillcolor\":\"#f05a71\",\"layer\":\"below\",\"line\":{\"width\":0},\"opacity\":0.1,\"type\":\"rect\",\"x0\":0.25,\"x1\":0.3,\"xref\":\"x\",\"y0\":0,\"y1\":1,\"yref\":\"y\"},{\"fillcolor\":\"#f05a71\",\"layer\":\"below\",\"line\":{\"width\":0},\"opacity\":0.1,\"type\":\"rect\",\"x0\":-0.29886792452830196,\"x1\":-0.19999999999999996,\"xref\":\"x\",\"y0\":0,\"y1\":1,\"yref\":\"y\"},{\"fillcolor\":\"#c7f5bf\",\"layer\":\"below\",\"line\":{\"width\":0},\"opacity\":0.1,\"type\":\"rect\",\"x0\":-0.19999999999999996,\"x1\":0.25,\"xref\":\"x\",\"y0\":0,\"y1\":1,\"yref\":\"y\"},{\"line\":{\"color\":\"#371ea3\",\"width\":1.5},\"type\":\"line\",\"x0\":0,\"x1\":0,\"xref\":\"x\",\"y0\":0,\"y1\":1,\"yref\":\"y\"},{\"fillcolor\":\"#f05a71\",\"layer\":\"below\",\"line\":{\"width\":0},\"opacity\":0.1,\"type\":\"rect\",\"x0\":0.25,\"x1\":0.3,\"xref\":\"x\",\"y0\":0,\"y1\":1,\"yref\":\"y2\"},{\"fillcolor\":\"#f05a71\",\"layer\":\"below\",\"line\":{\"width\":0},\"opacity\":0.1,\"type\":\"rect\",\"x0\":-0.29886792452830196,\"x1\":-0.19999999999999996,\"xref\":\"x\",\"y0\":0,\"y1\":1,\"yref\":\"y2\"},{\"fillcolor\":\"#c7f5bf\",\"layer\":\"below\",\"line\":{\"width\":0},\"opacity\":0.1,\"type\":\"rect\",\"x0\":-0.19999999999999996,\"x1\":0.25,\"xref\":\"x\",\"y0\":0,\"y1\":1,\"yref\":\"y2\"},{\"line\":{\"color\":\"#371ea3\",\"width\":1.5},\"type\":\"line\",\"x0\":0,\"x1\":0,\"xref\":\"x\",\"y0\":0,\"y1\":1,\"yref\":\"y2\"},{\"fillcolor\":\"#f05a71\",\"layer\":\"below\",\"line\":{\"width\":0},\"opacity\":0.1,\"type\":\"rect\",\"x0\":0.25,\"x1\":0.3,\"xref\":\"x\",\"y0\":0,\"y1\":1,\"yref\":\"y3\"},{\"fillcolor\":\"#f05a71\",\"layer\":\"below\",\"line\":{\"width\":0},\"opacity\":0.1,\"type\":\"rect\",\"x0\":-0.29886792452830196,\"x1\":-0.19999999999999996,\"xref\":\"x\",\"y0\":0,\"y1\":1,\"yref\":\"y3\"},{\"fillcolor\":\"#c7f5bf\",\"layer\":\"below\",\"line\":{\"width\":0},\"opacity\":0.1,\"type\":\"rect\",\"x0\":-0.19999999999999996,\"x1\":0.25,\"xref\":\"x\",\"y0\":0,\"y1\":1,\"yref\":\"y3\"},{\"line\":{\"color\":\"#371ea3\",\"width\":1.5},\"type\":\"line\",\"x0\":0,\"x1\":0,\"xref\":\"x\",\"y0\":0,\"y1\":1,\"yref\":\"y3\"},{\"fillcolor\":\"#f05a71\",\"layer\":\"below\",\"line\":{\"width\":0},\"opacity\":0.1,\"type\":\"rect\",\"x0\":0.25,\"x1\":0.3,\"xref\":\"x\",\"y0\":0,\"y1\":1,\"yref\":\"y4\"},{\"fillcolor\":\"#f05a71\",\"layer\":\"below\",\"line\":{\"width\":0},\"opacity\":0.1,\"type\":\"rect\",\"x0\":-0.29886792452830196,\"x1\":-0.19999999999999996,\"xref\":\"x\",\"y0\":0,\"y1\":1,\"yref\":\"y4\"},{\"fillcolor\":\"#c7f5bf\",\"layer\":\"below\",\"line\":{\"width\":0},\"opacity\":0.1,\"type\":\"rect\",\"x0\":-0.19999999999999996,\"x1\":0.25,\"xref\":\"x\",\"y0\":0,\"y1\":1,\"yref\":\"y4\"},{\"line\":{\"color\":\"#371ea3\",\"width\":1.5},\"type\":\"line\",\"x0\":0,\"x1\":0,\"xref\":\"x\",\"y0\":0,\"y1\":1,\"yref\":\"y4\"},{\"fillcolor\":\"#f05a71\",\"layer\":\"below\",\"line\":{\"width\":0},\"opacity\":0.1,\"type\":\"rect\",\"x0\":0.25,\"x1\":0.3,\"y0\":0,\"y1\":1,\"yref\":\"y5\",\"xref\":\"x\"},{\"fillcolor\":\"#f05a71\",\"layer\":\"below\",\"line\":{\"width\":0},\"opacity\":0.1,\"type\":\"rect\",\"x0\":-0.29886792452830196,\"x1\":-0.19999999999999996,\"y0\":0,\"y1\":1,\"yref\":\"y5\",\"xref\":\"x\"},{\"fillcolor\":\"#c7f5bf\",\"layer\":\"below\",\"line\":{\"width\":0},\"opacity\":0.1,\"type\":\"rect\",\"x0\":-0.19999999999999996,\"x1\":0.25,\"y0\":0,\"y1\":1,\"yref\":\"y5\",\"xref\":\"x\"},{\"line\":{\"color\":\"#371ea3\",\"width\":1.5},\"type\":\"line\",\"x0\":0,\"x1\":0,\"xref\":\"x\",\"y0\":0,\"y1\":1,\"yref\":\"y5\"}],\"title\":{\"font\":{\"size\":25},\"text\":\"Fairness Check\",\"x\":0.5,\"y\":0.99},\"font\":{\"color\":\"#371ea3\"}},                        {\"displaylogo\": false, \"staticPlot\": false, \"toImageButtonOptions\": {\"height\": null, \"width\": null}, \"modeBarButtonsToRemove\": [\"sendDataToCloud\", \"lasso2d\", \"autoScale2d\", \"select2d\", \"zoom2d\", \"pan2d\", \"zoomIn2d\", \"zoomOut2d\", \"resetScale2d\", \"toggleSpikelines\", \"hoverCompareCartesian\", \"hoverClosestCartesian\"], \"responsive\": true}                    ).then(function(){\n",
              "                            \n",
              "var gd = document.getElementById('97f8039b-6f96-46af-b472-7bdaab9d2ed8');\n",
              "var x = new MutationObserver(function (mutations, observer) {{\n",
              "        var display = window.getComputedStyle(gd).display;\n",
              "        if (!display || display === 'none') {{\n",
              "            console.log([gd, 'removed!']);\n",
              "            Plotly.purge(gd);\n",
              "            observer.disconnect();\n",
              "        }}\n",
              "}});\n",
              "\n",
              "// Listen for the removal of the full notebook cells\n",
              "var notebookContainer = gd.closest('#notebook-container');\n",
              "if (notebookContainer) {{\n",
              "    x.observe(notebookContainer, {childList: true});\n",
              "}}\n",
              "\n",
              "// Listen for the clearing of the current output cell\n",
              "var outputEl = gd.closest('.output');\n",
              "if (outputEl) {{\n",
              "    x.observe(outputEl, {childList: true});\n",
              "}}\n",
              "\n",
              "                        })                };                            </script>        </div>\n",
              "</body>\n",
              "</html>"
            ]
          },
          "metadata": {}
        }
      ]
    },
    {
      "cell_type": "markdown",
      "source": [
        "## Dumping models"
      ],
      "metadata": {
        "id": "nLwuUwhGU-P6"
      }
    },
    {
      "cell_type": "code",
      "source": [
        "from joblib import load, dump\n",
        "\n",
        "dump(rf, \"/content/rf.joblib\")\n",
        "dump(rf_weighted, \"/content/rf_w.joblib\")\n",
        "dump(rf_u, \"/content/rf_u.joblib\")\n",
        "dump(rf_p, \"/content/rf_p.joblib\")\n",
        "dump(gb, \"/content/gb.joblib\")\n",
        "dump(gb_weighted, \"/content/gb_w.joblib\")\n",
        "dump(gb_u, \"/content/gb_u.joblib\")\n",
        "dump(gb_p, \"/content/gb_p.joblib\")\n",
        "dump(dc, \"/content/dc.joblib\")\n",
        "dump(dc_weighted, \"/content/dc_w.joblib\")\n",
        "dump(dc_u, \"/content/dc_u.joblib\")\n",
        "dump(dc_p, \"/content/dc_p.joblib\")\n",
        "dump(kn, \"/content/kn.joblib\")\n",
        "# dump(kn_w, \"/content/kn_w.joblib\")\n",
        "dump(kn_u, \"/content/kn_u.joblib\")\n",
        "dump(kn_p, \"/content/kn_p.joblib\")"
      ],
      "metadata": {
        "colab": {
          "base_uri": "https://localhost:8080/"
        },
        "id": "Lk9deEkHU7BD",
        "outputId": "aa78f642-88ff-4c4d-a71c-f6e90053ad77"
      },
      "execution_count": 18,
      "outputs": [
        {
          "output_type": "execute_result",
          "data": {
            "text/plain": [
              "['/content/kn_p.joblib']"
            ]
          },
          "metadata": {},
          "execution_count": 18
        }
      ]
    }
  ],
  "metadata": {
    "colab": {
      "provenance": [],
      "collapsed_sections": [
        "9500yA516Rjo"
      ]
    },
    "kernelspec": {
      "display_name": "Python 3",
      "name": "python3"
    },
    "language_info": {
      "name": "python"
    }
  },
  "nbformat": 4,
  "nbformat_minor": 0
}